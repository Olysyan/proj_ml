{
  "cells": [
    {
      "attachments": {},
      "cell_type": "markdown",
      "metadata": {},
      "source": [
        "Подготовка датасета для обучения"
      ]
    },
    {
      "cell_type": "code",
      "execution_count": 318,
      "metadata": {},
      "outputs": [],
      "source": [
        "import pandas as pd\n",
        "df_dataset=pd.read_csv(\"./live_dat.csv\",low_memory=False)\n"
      ]
    },
    {
      "cell_type": "code",
      "execution_count": 319,
      "metadata": {},
      "outputs": [
        {
          "data": {
            "text/plain": [
              "0    1058\n",
              "1    1001\n",
              "2     180\n",
              "Name: Label, dtype: int64"
            ]
          },
          "execution_count": 319,
          "metadata": {},
          "output_type": "execute_result"
        }
      ],
      "source": [
        "df_dataset[\"Label\"].value_counts()"
      ]
    },
    {
      "cell_type": "code",
      "execution_count": 320,
      "metadata": {},
      "outputs": [],
      "source": [
        "import numpy as np"
      ]
    },
    {
      "cell_type": "code",
      "execution_count": 321,
      "metadata": {
        "id": "h0BxbBxfseNm"
      },
      "outputs": [],
      "source": [
        "from sklearn.preprocessing import MinMaxScaler\n",
        "from sklearn.model_selection import train_test_split"
      ]
    },
    {
      "attachments": {},
      "cell_type": "markdown",
      "metadata": {
        "id": "Owj40jffWfxZ"
      },
      "source": [
        "Предобработка"
      ]
    },
    {
      "cell_type": "code",
      "execution_count": 322,
      "metadata": {
        "id": "Y9BO88CBdxei"
      },
      "outputs": [],
      "source": [
        "train, test = train_test_split(df_dataset, test_size=0.3, random_state=420)"
      ]
    },
    {
      "cell_type": "code",
      "execution_count": 323,
      "metadata": {
        "id": "8cXnwT7Lsp8s"
      },
      "outputs": [],
      "source": [
        "numerical_cols = df_dataset.columns[:-3]"
      ]
    },
    {
      "cell_type": "code",
      "execution_count": 324,
      "metadata": {
        "id": "r6MlACGavNQ8"
      },
      "outputs": [],
      "source": [
        "min_max_scaler = MinMaxScaler().fit(train[numerical_cols])"
      ]
    },
    {
      "cell_type": "code",
      "execution_count": 325,
      "metadata": {
        "id": "rz1zwitPvHkX"
      },
      "outputs": [],
      "source": [
        "train[numerical_cols] = min_max_scaler.transform(train[numerical_cols])"
      ]
    },
    {
      "cell_type": "code",
      "execution_count": 326,
      "metadata": {
        "colab": {
          "base_uri": "https://localhost:8080/"
        },
        "id": "KX6_MpIntsEy",
        "outputId": "3a5c7d59-e602-402e-d91d-81e1a7c0b0c4"
      },
      "outputs": [
        {
          "data": {
            "text/plain": [
              "(1567, 72)"
            ]
          },
          "execution_count": 326,
          "metadata": {},
          "output_type": "execute_result"
        }
      ],
      "source": [
        "train.shape"
      ]
    },
    {
      "cell_type": "code",
      "execution_count": 327,
      "metadata": {
        "id": "RGStCtlCd9pY"
      },
      "outputs": [],
      "source": [
        "test[numerical_cols] = min_max_scaler.transform(test[numerical_cols])"
      ]
    },
    {
      "cell_type": "code",
      "execution_count": 328,
      "metadata": {
        "colab": {
          "base_uri": "https://localhost:8080/"
        },
        "id": "tDt36AqmmXs8",
        "outputId": "732ceb5d-156d-480b-b702-e05406ee6f4e"
      },
      "outputs": [
        {
          "data": {
            "text/html": [
              "<div>\n",
              "<style scoped>\n",
              "    .dataframe tbody tr th:only-of-type {\n",
              "        vertical-align: middle;\n",
              "    }\n",
              "\n",
              "    .dataframe tbody tr th {\n",
              "        vertical-align: top;\n",
              "    }\n",
              "\n",
              "    .dataframe thead th {\n",
              "        text-align: right;\n",
              "    }\n",
              "</style>\n",
              "<table border=\"1\" class=\"dataframe\">\n",
              "  <thead>\n",
              "    <tr style=\"text-align: right;\">\n",
              "      <th></th>\n",
              "      <th>protocol</th>\n",
              "      <th>flow_duration</th>\n",
              "      <th>fwd_pkts_s</th>\n",
              "      <th>bwd_pkts_s</th>\n",
              "      <th>tot_fwd_pkts</th>\n",
              "      <th>tot_bwd_pkts</th>\n",
              "      <th>totlen_fwd_pkts</th>\n",
              "      <th>totlen_bwd_pkts</th>\n",
              "      <th>fwd_pkt_len_max</th>\n",
              "      <th>fwd_pkt_len_min</th>\n",
              "      <th>...</th>\n",
              "      <th>fwd_blk_rate_avg</th>\n",
              "      <th>bwd_blk_rate_avg</th>\n",
              "      <th>fwd_seg_size_avg</th>\n",
              "      <th>bwd_seg_size_avg</th>\n",
              "      <th>cwe_flag_count</th>\n",
              "      <th>subflow_fwd_pkts</th>\n",
              "      <th>subflow_bwd_pkts</th>\n",
              "      <th>subflow_fwd_byts</th>\n",
              "      <th>subflow_bwd_byts</th>\n",
              "      <th>Label</th>\n",
              "    </tr>\n",
              "  </thead>\n",
              "  <tbody>\n",
              "    <tr>\n",
              "      <th>76</th>\n",
              "      <td>1.0</td>\n",
              "      <td>0.975115</td>\n",
              "      <td>1.200519e-05</td>\n",
              "      <td>0.000000e+00</td>\n",
              "      <td>0.259942</td>\n",
              "      <td>0.000000</td>\n",
              "      <td>0.344702</td>\n",
              "      <td>0.000000</td>\n",
              "      <td>0.111111</td>\n",
              "      <td>1.000000</td>\n",
              "      <td>...</td>\n",
              "      <td>0.000198</td>\n",
              "      <td>0.0</td>\n",
              "      <td>0.551185</td>\n",
              "      <td>0.000000</td>\n",
              "      <td>0.0</td>\n",
              "      <td>0.259942</td>\n",
              "      <td>0.000000</td>\n",
              "      <td>2178646</td>\n",
              "      <td>0</td>\n",
              "      <td>2</td>\n",
              "    </tr>\n",
              "    <tr>\n",
              "      <th>522</th>\n",
              "      <td>0.0</td>\n",
              "      <td>0.156173</td>\n",
              "      <td>2.604520e-07</td>\n",
              "      <td>2.083616e-07</td>\n",
              "      <td>0.000723</td>\n",
              "      <td>0.000317</td>\n",
              "      <td>0.000119</td>\n",
              "      <td>0.000014</td>\n",
              "      <td>0.039346</td>\n",
              "      <td>0.000000</td>\n",
              "      <td>...</td>\n",
              "      <td>0.000000</td>\n",
              "      <td>0.0</td>\n",
              "      <td>0.040546</td>\n",
              "      <td>0.016363</td>\n",
              "      <td>0.0</td>\n",
              "      <td>0.000723</td>\n",
              "      <td>0.000317</td>\n",
              "      <td>807</td>\n",
              "      <td>240</td>\n",
              "      <td>0</td>\n",
              "    </tr>\n",
              "    <tr>\n",
              "      <th>1729</th>\n",
              "      <td>0.0</td>\n",
              "      <td>0.013017</td>\n",
              "      <td>4.374874e-06</td>\n",
              "      <td>3.124910e-06</td>\n",
              "      <td>0.001085</td>\n",
              "      <td>0.000396</td>\n",
              "      <td>0.000143</td>\n",
              "      <td>0.000019</td>\n",
              "      <td>0.013090</td>\n",
              "      <td>0.008219</td>\n",
              "      <td>...</td>\n",
              "      <td>0.000000</td>\n",
              "      <td>0.0</td>\n",
              "      <td>0.031281</td>\n",
              "      <td>0.018544</td>\n",
              "      <td>0.0</td>\n",
              "      <td>0.001085</td>\n",
              "      <td>0.000396</td>\n",
              "      <td>958</td>\n",
              "      <td>340</td>\n",
              "      <td>1</td>\n",
              "    </tr>\n",
              "    <tr>\n",
              "      <th>781</th>\n",
              "      <td>1.0</td>\n",
              "      <td>0.000042</td>\n",
              "      <td>3.862495e-04</td>\n",
              "      <td>3.862495e-04</td>\n",
              "      <td>0.000181</td>\n",
              "      <td>0.000159</td>\n",
              "      <td>0.000016</td>\n",
              "      <td>0.000061</td>\n",
              "      <td>0.001903</td>\n",
              "      <td>0.017123</td>\n",
              "      <td>...</td>\n",
              "      <td>0.000000</td>\n",
              "      <td>0.0</td>\n",
              "      <td>0.009438</td>\n",
              "      <td>0.146173</td>\n",
              "      <td>0.0</td>\n",
              "      <td>0.000181</td>\n",
              "      <td>0.000159</td>\n",
              "      <td>158</td>\n",
              "      <td>1072</td>\n",
              "      <td>0</td>\n",
              "    </tr>\n",
              "    <tr>\n",
              "      <th>1290</th>\n",
              "      <td>0.0</td>\n",
              "      <td>0.000007</td>\n",
              "      <td>4.767580e-03</td>\n",
              "      <td>5.959476e-03</td>\n",
              "      <td>0.000542</td>\n",
              "      <td>0.000396</td>\n",
              "      <td>0.000060</td>\n",
              "      <td>0.000019</td>\n",
              "      <td>0.013090</td>\n",
              "      <td>0.008219</td>\n",
              "      <td>...</td>\n",
              "      <td>0.000000</td>\n",
              "      <td>0.0</td>\n",
              "      <td>0.020386</td>\n",
              "      <td>0.017890</td>\n",
              "      <td>0.0</td>\n",
              "      <td>0.000542</td>\n",
              "      <td>0.000396</td>\n",
              "      <td>432</td>\n",
              "      <td>328</td>\n",
              "      <td>1</td>\n",
              "    </tr>\n",
              "    <tr>\n",
              "      <th>...</th>\n",
              "      <td>...</td>\n",
              "      <td>...</td>\n",
              "      <td>...</td>\n",
              "      <td>...</td>\n",
              "      <td>...</td>\n",
              "      <td>...</td>\n",
              "      <td>...</td>\n",
              "      <td>...</td>\n",
              "      <td>...</td>\n",
              "      <td>...</td>\n",
              "      <td>...</td>\n",
              "      <td>...</td>\n",
              "      <td>...</td>\n",
              "      <td>...</td>\n",
              "      <td>...</td>\n",
              "      <td>...</td>\n",
              "      <td>...</td>\n",
              "      <td>...</td>\n",
              "      <td>...</td>\n",
              "      <td>...</td>\n",
              "      <td>...</td>\n",
              "    </tr>\n",
              "    <tr>\n",
              "      <th>234</th>\n",
              "      <td>0.0</td>\n",
              "      <td>0.175852</td>\n",
              "      <td>2.775670e-07</td>\n",
              "      <td>2.313058e-07</td>\n",
              "      <td>0.000904</td>\n",
              "      <td>0.000396</td>\n",
              "      <td>0.000128</td>\n",
              "      <td>0.000017</td>\n",
              "      <td>0.039346</td>\n",
              "      <td>0.000000</td>\n",
              "      <td>...</td>\n",
              "      <td>0.000000</td>\n",
              "      <td>0.0</td>\n",
              "      <td>0.033788</td>\n",
              "      <td>0.016363</td>\n",
              "      <td>0.0</td>\n",
              "      <td>0.000904</td>\n",
              "      <td>0.000396</td>\n",
              "      <td>861</td>\n",
              "      <td>300</td>\n",
              "      <td>0</td>\n",
              "    </tr>\n",
              "    <tr>\n",
              "      <th>1655</th>\n",
              "      <td>0.0</td>\n",
              "      <td>0.000016</td>\n",
              "      <td>2.053388e-03</td>\n",
              "      <td>2.566735e-03</td>\n",
              "      <td>0.000542</td>\n",
              "      <td>0.000396</td>\n",
              "      <td>0.000060</td>\n",
              "      <td>0.000019</td>\n",
              "      <td>0.013090</td>\n",
              "      <td>0.008219</td>\n",
              "      <td>...</td>\n",
              "      <td>0.000000</td>\n",
              "      <td>0.0</td>\n",
              "      <td>0.020386</td>\n",
              "      <td>0.017890</td>\n",
              "      <td>0.0</td>\n",
              "      <td>0.000542</td>\n",
              "      <td>0.000396</td>\n",
              "      <td>432</td>\n",
              "      <td>328</td>\n",
              "      <td>1</td>\n",
              "    </tr>\n",
              "    <tr>\n",
              "      <th>1606</th>\n",
              "      <td>0.0</td>\n",
              "      <td>0.000015</td>\n",
              "      <td>2.169197e-03</td>\n",
              "      <td>2.711497e-03</td>\n",
              "      <td>0.000542</td>\n",
              "      <td>0.000396</td>\n",
              "      <td>0.000060</td>\n",
              "      <td>0.000019</td>\n",
              "      <td>0.013090</td>\n",
              "      <td>0.008219</td>\n",
              "      <td>...</td>\n",
              "      <td>0.000000</td>\n",
              "      <td>0.0</td>\n",
              "      <td>0.020386</td>\n",
              "      <td>0.018544</td>\n",
              "      <td>0.0</td>\n",
              "      <td>0.000542</td>\n",
              "      <td>0.000396</td>\n",
              "      <td>432</td>\n",
              "      <td>340</td>\n",
              "      <td>1</td>\n",
              "    </tr>\n",
              "    <tr>\n",
              "      <th>307</th>\n",
              "      <td>0.0</td>\n",
              "      <td>0.000199</td>\n",
              "      <td>1.227345e-04</td>\n",
              "      <td>1.227345e-04</td>\n",
              "      <td>0.000362</td>\n",
              "      <td>0.000238</td>\n",
              "      <td>0.000102</td>\n",
              "      <td>0.000010</td>\n",
              "      <td>0.039346</td>\n",
              "      <td>0.000000</td>\n",
              "      <td>...</td>\n",
              "      <td>0.000000</td>\n",
              "      <td>0.0</td>\n",
              "      <td>0.067577</td>\n",
              "      <td>0.016363</td>\n",
              "      <td>0.0</td>\n",
              "      <td>0.000362</td>\n",
              "      <td>0.000238</td>\n",
              "      <td>699</td>\n",
              "      <td>180</td>\n",
              "      <td>0</td>\n",
              "    </tr>\n",
              "    <tr>\n",
              "      <th>147</th>\n",
              "      <td>1.0</td>\n",
              "      <td>0.857420</td>\n",
              "      <td>1.194529e-05</td>\n",
              "      <td>0.000000e+00</td>\n",
              "      <td>0.227404</td>\n",
              "      <td>0.000000</td>\n",
              "      <td>0.301583</td>\n",
              "      <td>0.000000</td>\n",
              "      <td>0.111111</td>\n",
              "      <td>1.000000</td>\n",
              "      <td>...</td>\n",
              "      <td>0.000197</td>\n",
              "      <td>0.0</td>\n",
              "      <td>0.551185</td>\n",
              "      <td>0.000000</td>\n",
              "      <td>0.0</td>\n",
              "      <td>0.227404</td>\n",
              "      <td>0.000000</td>\n",
              "      <td>1906126</td>\n",
              "      <td>0</td>\n",
              "      <td>2</td>\n",
              "    </tr>\n",
              "  </tbody>\n",
              "</table>\n",
              "<p>672 rows × 72 columns</p>\n",
              "</div>"
            ],
            "text/plain": [
              "      protocol  flow_duration    fwd_pkts_s    bwd_pkts_s  tot_fwd_pkts  \\\n",
              "76         1.0       0.975115  1.200519e-05  0.000000e+00      0.259942   \n",
              "522        0.0       0.156173  2.604520e-07  2.083616e-07      0.000723   \n",
              "1729       0.0       0.013017  4.374874e-06  3.124910e-06      0.001085   \n",
              "781        1.0       0.000042  3.862495e-04  3.862495e-04      0.000181   \n",
              "1290       0.0       0.000007  4.767580e-03  5.959476e-03      0.000542   \n",
              "...        ...            ...           ...           ...           ...   \n",
              "234        0.0       0.175852  2.775670e-07  2.313058e-07      0.000904   \n",
              "1655       0.0       0.000016  2.053388e-03  2.566735e-03      0.000542   \n",
              "1606       0.0       0.000015  2.169197e-03  2.711497e-03      0.000542   \n",
              "307        0.0       0.000199  1.227345e-04  1.227345e-04      0.000362   \n",
              "147        1.0       0.857420  1.194529e-05  0.000000e+00      0.227404   \n",
              "\n",
              "      tot_bwd_pkts  totlen_fwd_pkts  totlen_bwd_pkts  fwd_pkt_len_max  \\\n",
              "76        0.000000         0.344702         0.000000         0.111111   \n",
              "522       0.000317         0.000119         0.000014         0.039346   \n",
              "1729      0.000396         0.000143         0.000019         0.013090   \n",
              "781       0.000159         0.000016         0.000061         0.001903   \n",
              "1290      0.000396         0.000060         0.000019         0.013090   \n",
              "...            ...              ...              ...              ...   \n",
              "234       0.000396         0.000128         0.000017         0.039346   \n",
              "1655      0.000396         0.000060         0.000019         0.013090   \n",
              "1606      0.000396         0.000060         0.000019         0.013090   \n",
              "307       0.000238         0.000102         0.000010         0.039346   \n",
              "147       0.000000         0.301583         0.000000         0.111111   \n",
              "\n",
              "      fwd_pkt_len_min  ...  fwd_blk_rate_avg  bwd_blk_rate_avg  \\\n",
              "76           1.000000  ...          0.000198               0.0   \n",
              "522          0.000000  ...          0.000000               0.0   \n",
              "1729         0.008219  ...          0.000000               0.0   \n",
              "781          0.017123  ...          0.000000               0.0   \n",
              "1290         0.008219  ...          0.000000               0.0   \n",
              "...               ...  ...               ...               ...   \n",
              "234          0.000000  ...          0.000000               0.0   \n",
              "1655         0.008219  ...          0.000000               0.0   \n",
              "1606         0.008219  ...          0.000000               0.0   \n",
              "307          0.000000  ...          0.000000               0.0   \n",
              "147          1.000000  ...          0.000197               0.0   \n",
              "\n",
              "      fwd_seg_size_avg  bwd_seg_size_avg  cwe_flag_count  subflow_fwd_pkts  \\\n",
              "76            0.551185          0.000000             0.0          0.259942   \n",
              "522           0.040546          0.016363             0.0          0.000723   \n",
              "1729          0.031281          0.018544             0.0          0.001085   \n",
              "781           0.009438          0.146173             0.0          0.000181   \n",
              "1290          0.020386          0.017890             0.0          0.000542   \n",
              "...                ...               ...             ...               ...   \n",
              "234           0.033788          0.016363             0.0          0.000904   \n",
              "1655          0.020386          0.017890             0.0          0.000542   \n",
              "1606          0.020386          0.018544             0.0          0.000542   \n",
              "307           0.067577          0.016363             0.0          0.000362   \n",
              "147           0.551185          0.000000             0.0          0.227404   \n",
              "\n",
              "      subflow_bwd_pkts  subflow_fwd_byts  subflow_bwd_byts  Label  \n",
              "76            0.000000           2178646                 0      2  \n",
              "522           0.000317               807               240      0  \n",
              "1729          0.000396               958               340      1  \n",
              "781           0.000159               158              1072      0  \n",
              "1290          0.000396               432               328      1  \n",
              "...                ...               ...               ...    ...  \n",
              "234           0.000396               861               300      0  \n",
              "1655          0.000396               432               328      1  \n",
              "1606          0.000396               432               340      1  \n",
              "307           0.000238               699               180      0  \n",
              "147           0.000000           1906126                 0      2  \n",
              "\n",
              "[672 rows x 72 columns]"
            ]
          },
          "execution_count": 328,
          "metadata": {},
          "output_type": "execute_result"
        }
      ],
      "source": [
        "test"
      ]
    },
    {
      "cell_type": "code",
      "execution_count": 329,
      "metadata": {
        "id": "Whed0iVfzfyN"
      },
      "outputs": [],
      "source": [
        "y_train = np.array(train.pop(\"Label\")) # pop removes \"Label\" from the dataframe\n",
        "X_train = train.values"
      ]
    },
    {
      "cell_type": "code",
      "execution_count": 330,
      "metadata": {},
      "outputs": [
        {
          "data": {
            "text/plain": [
              "array([2, 1, 0, ..., 0, 0, 0])"
            ]
          },
          "execution_count": 330,
          "metadata": {},
          "output_type": "execute_result"
        }
      ],
      "source": [
        "y_train"
      ]
    },
    {
      "cell_type": "code",
      "execution_count": 331,
      "metadata": {
        "id": "A9T2SEJKeBhm"
      },
      "outputs": [],
      "source": [
        "y_test = np.array(test.pop(\"Label\")) # pop removes \"Label\" from the dataframe\n",
        "X_test = test.values"
      ]
    },
    {
      "attachments": {},
      "cell_type": "markdown",
      "metadata": {
        "id": "Ix0LdrXtWhzR"
      },
      "source": [
        "Ансамбл SVM + MLP выход VOTE. Тестим смешивание"
      ]
    },
    {
      "cell_type": "code",
      "execution_count": 332,
      "metadata": {
        "id": "Bu550CH1Wtr1"
      },
      "outputs": [],
      "source": [
        "from numpy import hstack\n",
        "from sklearn.neighbors import KNeighborsClassifier\n",
        "from sklearn.svm import SVC\n",
        "from sklearn.linear_model import LinearRegression\n",
        "from sklearn.ensemble import RandomForestClassifier\n",
        "from sklearn.neural_network import MLPClassifier\n",
        "from sklearn.ensemble import VotingClassifier\n",
        "from sklearn.metrics import accuracy_score\n",
        "from sklearn.tree import DecisionTreeClassifier"
      ]
    },
    {
      "cell_type": "code",
      "execution_count": 333,
      "metadata": {
        "id": "yLlE1JQXffKH"
      },
      "outputs": [],
      "source": [
        "from sklearn.ensemble import RandomForestClassifier\n",
        "from sklearn.model_selection import GridSearchCV\n",
        "from sklearn.utils import class_weight"
      ]
    },
    {
      "cell_type": "code",
      "execution_count": 334,
      "metadata": {
        "id": "Vm3WvZlmjIF6"
      },
      "outputs": [
        {
          "data": {
            "text/plain": [
              "1567"
            ]
          },
          "execution_count": 334,
          "metadata": {},
          "output_type": "execute_result"
        }
      ],
      "source": [
        "models = {}\n",
        "label= {0 :'BENIGN',\n",
        "    1: 'http',\n",
        "    2: 'udp',\n",
        "}\n",
        "np.unique(y_train)\n",
        "len(y_train)"
      ]
    },
    {
      "attachments": {},
      "cell_type": "markdown",
      "metadata": {
        "id": "hoCfcEiZ1WEa"
      },
      "source": [
        "Родбор параметров моделей"
      ]
    },
    {
      "attachments": {},
      "cell_type": "markdown",
      "metadata": {
        "id": "2g45a6sjf7Ys"
      },
      "source": [
        "Рандомный лес"
      ]
    },
    {
      "cell_type": "code",
      "execution_count": 335,
      "metadata": {
        "colab": {
          "base_uri": "https://localhost:8080/"
        },
        "id": "w9ewNpTrft7j",
        "outputId": "ebf5e6b4-36c3-481e-f15c-cb261cd09bd1"
      },
      "outputs": [
        {
          "name": "stdout",
          "output_type": "stream",
          "text": [
            "[0, 1, 2]\n",
            "{0: 0.6964444444444444, 1: 0.7526416906820365, 2: 4.246612466124661}\n"
          ]
        }
      ],
      "source": [
        "# Calculating class weights for balanced class weighted classifier training\n",
        "class_weights = class_weight.compute_class_weight(\n",
        "    class_weight='balanced',\n",
        "    classes=np.unique(y_train),\n",
        "    y=y_train\n",
        ")\n",
        "\n",
        "print( [i for i,j in label.items()])\n",
        "\n",
        "# Must be in dict format for scikitlearn\n",
        "class_weights = {\n",
        "    i: class_weights[i] for i,j in label.items()\n",
        "    #1: class_weights[1],\n",
        "    #2: class_weights[2],\n",
        "    #3: class_weights[3]\n",
        "}\n",
        "\n",
        "print(class_weights)"
      ]
    },
    {
      "cell_type": "code",
      "execution_count": 336,
      "metadata": {
        "colab": {
          "base_uri": "https://localhost:8080/"
        },
        "id": "qiPZDHMpmgSj",
        "outputId": "6ec64e90-41eb-4a19-9ccc-a67740ba10b2"
      },
      "outputs": [
        {
          "data": {
            "text/plain": [
              "{0: 0.6964444444444444, 1: 0.7526416906820365, 2: 4.246612466124661}"
            ]
          },
          "execution_count": 336,
          "metadata": {},
          "output_type": "execute_result"
        }
      ],
      "source": [
        "class_weights"
      ]
    },
    {
      "cell_type": "code",
      "execution_count": 337,
      "metadata": {
        "id": "IWjxnWukfyw9"
      },
      "outputs": [],
      "source": [
        "model = RandomForestClassifier(\n",
        "    n_estimators=100,\n",
        "    criterion='gini',\n",
        "    max_depth=None,\n",
        "    min_samples_split=2,\n",
        "    min_samples_leaf=1,\n",
        "    min_weight_fraction_leaf=0.0,\n",
        "    max_features='auto',\n",
        "    max_leaf_nodes=None,\n",
        "    min_impurity_decrease=0.0,\n",
        "    bootstrap=True,\n",
        "    oob_score=False,\n",
        "    n_jobs=None,\n",
        "    random_state=None,\n",
        "    verbose=0,\n",
        "    warm_start=False,\n",
        "    class_weight=class_weights,\n",
        "    ccp_alpha=0.0,\n",
        "    max_samples=None\n",
        ")\n",
        "\n",
        "hyperparameters = {\n",
        "    'n_estimators': [75,100, 125, 150,175]\n",
        "}"
      ]
    },
    {
      "cell_type": "code",
      "execution_count": 338,
      "metadata": {},
      "outputs": [
        {
          "data": {
            "text/plain": [
              "array([[1.00000000e+00, 9.48424361e-01, 1.17340431e-05, ...,\n",
              "        0.00000000e+00, 2.07115200e+06, 0.00000000e+00],\n",
              "       [0.00000000e+00, 1.48718238e-04, 2.18806411e-04, ...,\n",
              "        3.96290719e-04, 4.32000000e+02, 3.40000000e+02],\n",
              "       [1.00000000e+00, 7.23660134e-04, 6.74498342e-05, ...,\n",
              "        6.34065150e-04, 1.94600000e+03, 7.36100000e+03],\n",
              "       ...,\n",
              "       [0.00000000e+00, 1.56372652e-01, 2.60119846e-07, ...,\n",
              "        3.17032575e-04, 8.07000000e+02, 2.40000000e+02],\n",
              "       [0.00000000e+00, 5.26275212e-02, 7.72896558e-07, ...,\n",
              "        4.75548863e-04, 3.72000000e+02, 4.50000000e+02],\n",
              "       [0.00000000e+00, 8.89688863e-02, 3.45086545e-04, ...,\n",
              "        5.76206705e-01, 2.76986000e+05, 9.37606500e+06]])"
            ]
          },
          "execution_count": 338,
          "metadata": {},
          "output_type": "execute_result"
        }
      ],
      "source": [
        "X_train"
      ]
    },
    {
      "cell_type": "code",
      "execution_count": 339,
      "metadata": {
        "id": "A6h2jpK_f3gK"
      },
      "outputs": [],
      "source": [
        "rf = GridSearchCV(\n",
        "    estimator=model,\n",
        "    param_grid=hyperparameters,\n",
        "    cv=2,\n",
        "    verbose=1,\n",
        "    n_jobs=8  # Use all available CPU cores\n",
        ")"
      ]
    },
    {
      "cell_type": "code",
      "execution_count": 340,
      "metadata": {
        "id": "m3JQCzeo1PUq"
      },
      "outputs": [
        {
          "name": "stdout",
          "output_type": "stream",
          "text": [
            "Fitting 2 folds for each of 5 candidates, totalling 10 fits\n"
          ]
        },
        {
          "data": {
            "text/plain": [
              "GridSearchCV(cv=2,\n",
              "             estimator=RandomForestClassifier(class_weight={0: 0.6964444444444444,\n",
              "                                                            1: 0.7526416906820365,\n",
              "                                                            2: 4.246612466124661}),\n",
              "             n_jobs=8, param_grid={'n_estimators': [75, 100, 125, 150, 175]},\n",
              "             verbose=1)"
            ]
          },
          "execution_count": 340,
          "metadata": {},
          "output_type": "execute_result"
        }
      ],
      "source": [
        "rf.fit(X=X_train, y=y_train)"
      ]
    },
    {
      "cell_type": "code",
      "execution_count": 341,
      "metadata": {
        "id": "W1rDdzuTjKdu"
      },
      "outputs": [
        {
          "data": {
            "text/plain": [
              "{'n_estimators': 75}"
            ]
          },
          "execution_count": 341,
          "metadata": {},
          "output_type": "execute_result"
        }
      ],
      "source": [
        "models['random_forest'] = rf.best_estimator_\n",
        "n_estimator=rf.best_params_\n",
        "rf.score(X=X_train, y=y_train)\n",
        "n_estimator"
      ]
    },
    {
      "attachments": {},
      "cell_type": "markdown",
      "metadata": {
        "id": "2eK5kf87gCSp"
      },
      "source": [
        "Дерево решений"
      ]
    },
    {
      "cell_type": "code",
      "execution_count": 342,
      "metadata": {
        "id": "wqsrvlp5gEKq"
      },
      "outputs": [],
      "source": [
        "from sklearn.tree import DecisionTreeClassifier"
      ]
    },
    {
      "cell_type": "code",
      "execution_count": 343,
      "metadata": {
        "id": "Dz-0NmTNgIs4"
      },
      "outputs": [],
      "source": [
        "model = DecisionTreeClassifier(\n",
        "    criterion='gini',\n",
        "    splitter='best',\n",
        "    max_depth=None,\n",
        "    min_samples_split=2,\n",
        "    min_samples_leaf=1,\n",
        "    min_weight_fraction_leaf=0.0,\n",
        "    max_features=None,\n",
        "    random_state=None,\n",
        "    max_leaf_nodes=None,\n",
        "    min_impurity_decrease=0.0,\n",
        "    class_weight=None,\n",
        "    ccp_alpha=0.0\n",
        ")\n",
        "\n",
        "hyperparameters = {\n",
        "    'max_depth': [i for i in range(10, 20)]\n",
        "}"
      ]
    },
    {
      "cell_type": "code",
      "execution_count": 344,
      "metadata": {
        "id": "KZZJS7awgLIU"
      },
      "outputs": [],
      "source": [
        "d_tree = GridSearchCV(\n",
        "    estimator=model,\n",
        "    param_grid=hyperparameters,\n",
        "    cv=2,\n",
        "    verbose=1,\n",
        "    n_jobs=8  # Use all available CPU cores\n",
        ")"
      ]
    },
    {
      "cell_type": "code",
      "execution_count": 345,
      "metadata": {
        "id": "64Cx7ODA1kbe"
      },
      "outputs": [
        {
          "name": "stdout",
          "output_type": "stream",
          "text": [
            "Fitting 2 folds for each of 10 candidates, totalling 20 fits\n"
          ]
        },
        {
          "data": {
            "text/plain": [
              "GridSearchCV(cv=2, estimator=DecisionTreeClassifier(), n_jobs=8,\n",
              "             param_grid={'max_depth': [10, 11, 12, 13, 14, 15, 16, 17, 18, 19]},\n",
              "             verbose=1)"
            ]
          },
          "execution_count": 345,
          "metadata": {},
          "output_type": "execute_result"
        }
      ],
      "source": [
        "d_tree.fit(X=X_train, y=y_train)"
      ]
    },
    {
      "cell_type": "code",
      "execution_count": 346,
      "metadata": {
        "id": "xiobBJJajRRu"
      },
      "outputs": [
        {
          "data": {
            "text/plain": [
              "DecisionTreeClassifier(max_depth=15)"
            ]
          },
          "execution_count": 346,
          "metadata": {},
          "output_type": "execute_result"
        }
      ],
      "source": [
        "models['d_tree'] = d_tree.best_estimator_\n",
        "depth=d_tree.best_estimator_\n",
        "depth\n"
      ]
    },
    {
      "attachments": {},
      "cell_type": "markdown",
      "metadata": {
        "id": "kT0-xys2j9IV"
      },
      "source": [
        "Ансамбль стекинг"
      ]
    },
    {
      "attachments": {},
      "cell_type": "markdown",
      "metadata": {
        "id": "KlpyGbrl2Bvv"
      },
      "source": [
        "В зоде побора было получено, что лучшие значения для моделей ниже:"
      ]
    },
    {
      "cell_type": "code",
      "execution_count": 347,
      "metadata": {
        "id": "XgprfnKY2HO6"
      },
      "outputs": [],
      "source": [
        "rf = RandomForestClassifier(class_weight=class_weights,\n",
        "                            n_estimators=75)\n",
        "\n",
        "d_tree = RandomForestClassifier(class_weight=class_weights,\n",
        "                            n_estimators=75)"
      ]
    },
    {
      "cell_type": "code",
      "execution_count": 348,
      "metadata": {
        "id": "03UMbgibjbKj"
      },
      "outputs": [],
      "source": [
        "from sklearn.ensemble import StackingClassifier\n",
        "from keras.models import save_model"
      ]
    },
    {
      "cell_type": "code",
      "execution_count": 349,
      "metadata": {
        "id": "23urCQCMkAL9"
      },
      "outputs": [],
      "source": [
        "estimators = [('rf', rf), ('dt', d_tree)]\n",
        "log_model = StackingClassifier(estimators=estimators)"
      ]
    },
    {
      "cell_type": "code",
      "execution_count": 350,
      "metadata": {
        "colab": {
          "base_uri": "https://localhost:8080/"
        },
        "id": "A44kC1Jmm5YR",
        "outputId": "9652d8b3-3b81-4512-87a8-34d4674611c0"
      },
      "outputs": [
        {
          "data": {
            "text/plain": [
              "1.0"
            ]
          },
          "execution_count": 350,
          "metadata": {},
          "output_type": "execute_result"
        }
      ],
      "source": [
        "log_model.fit(X_train, y_train).score(X_test, y_test)\n"
      ]
    },
    {
      "cell_type": "code",
      "execution_count": 351,
      "metadata": {
        "id": "cslRxaVM0sae"
      },
      "outputs": [],
      "source": [
        "y_pred = log_model.predict(X_test)"
      ]
    },
    {
      "cell_type": "code",
      "execution_count": 352,
      "metadata": {},
      "outputs": [
        {
          "name": "stdout",
          "output_type": "stream",
          "text": [
            "Model sklearn saved\n"
          ]
        }
      ],
      "source": [
        "import pickle\n",
        "arquivo = 'Models/'+ 'log' + '.pkl'\n",
        "with open(arquivo,'wb') as file:\n",
        "    pickle.dump(log_model,file)\n",
        "    print('Model sklearn saved')"
      ]
    },
    {
      "cell_type": "code",
      "execution_count": 353,
      "metadata": {
        "colab": {
          "base_uri": "https://localhost:8080/"
        },
        "id": "zdQFJo6c0wSZ",
        "outputId": "ca6e0303-1552-43d4-e094-71ea83f559b4"
      },
      "outputs": [
        {
          "name": "stdout",
          "output_type": "stream",
          "text": [
            "              precision    recall  f1-score   support\n",
            "\n",
            "      BENIGN       1.00      1.00      1.00       308\n",
            "        http       1.00      1.00      1.00       307\n",
            "         udp       1.00      1.00      1.00        57\n",
            "\n",
            "    accuracy                           1.00       672\n",
            "   macro avg       1.00      1.00      1.00       672\n",
            "weighted avg       1.00      1.00      1.00       672\n",
            "\n"
          ]
        }
      ],
      "source": [
        "from sklearn.metrics import classification_report\n",
        "print(classification_report(y_test, y_pred, target_names=list(label.values())))"
      ]
    },
    {
      "attachments": {},
      "cell_type": "markdown",
      "metadata": {
        "id": "OmuOBQulk1FK"
      },
      "source": [
        "Voting"
      ]
    },
    {
      "cell_type": "code",
      "execution_count": 354,
      "metadata": {
        "id": "nJjhIHhgxEkT"
      },
      "outputs": [],
      "source": [
        "model_voting = {}"
      ]
    },
    {
      "cell_type": "code",
      "execution_count": 355,
      "metadata": {
        "id": "oix5eYpwxBgN"
      },
      "outputs": [],
      "source": [
        "model = RandomForestClassifier(\n",
        "    n_estimators=125,\n",
        "    criterion='gini',\n",
        "    max_depth=None,\n",
        "    min_samples_split=2,\n",
        "    min_samples_leaf=1,\n",
        "    min_weight_fraction_leaf=0.0,\n",
        "    max_features='auto',\n",
        "    max_leaf_nodes=None,\n",
        "    min_impurity_decrease=0.0,\n",
        "    bootstrap=True,\n",
        "    oob_score=False,\n",
        "    n_jobs=None,\n",
        "    random_state=None,\n",
        "    verbose=0,\n",
        "    warm_start=False,\n",
        "    class_weight=class_weights,\n",
        "    ccp_alpha=0.0,\n",
        "    max_samples=None\n",
        ")"
      ]
    },
    {
      "cell_type": "code",
      "execution_count": 356,
      "metadata": {
        "id": "NnWl90-cxGxS"
      },
      "outputs": [],
      "source": [
        "model_voting['random_forest'] = model"
      ]
    },
    {
      "cell_type": "code",
      "execution_count": 357,
      "metadata": {
        "id": "dZpPRZdKxIha"
      },
      "outputs": [],
      "source": [
        "model =RandomForestClassifier(\n",
        "    n_estimators=150,\n",
        "    criterion='gini',\n",
        "    max_depth=None,\n",
        "    min_samples_split=2,\n",
        "    min_samples_leaf=1,\n",
        "    min_weight_fraction_leaf=0.0,\n",
        "    max_features='auto',\n",
        "    max_leaf_nodes=None,\n",
        "    min_impurity_decrease=0.0,\n",
        "    bootstrap=True,\n",
        "    oob_score=False,\n",
        "    n_jobs=None,\n",
        "    random_state=None,\n",
        "    verbose=0,\n",
        "    warm_start=False,\n",
        "    class_weight=class_weights,\n",
        "    ccp_alpha=0.0,\n",
        "    max_samples=None\n",
        ")\n",
        "# model = DecisionTreeClassifier(\n",
        "    # criterion='gini',\n",
        "    # splitter='best',\n",
        "    # max_depth=19,\n",
        "    # min_samples_split=2,\n",
        "    # min_samples_leaf=1,\n",
        "    # min_weight_fraction_leaf=0.0,\n",
        "    # max_features=None,\n",
        "    # random_state=None,\n",
        "    # max_leaf_nodes=None,\n",
        "    # min_impurity_decrease=0.0,\n",
        "    # class_weight=None,\n",
        "    # ccp_alpha=0.0\n",
        "# )"
      ]
    },
    {
      "cell_type": "code",
      "execution_count": 358,
      "metadata": {
        "id": "3qhwdgYIxOXe"
      },
      "outputs": [],
      "source": [
        "model_voting['d_tree'] = model"
      ]
    },
    {
      "cell_type": "code",
      "execution_count": 359,
      "metadata": {
        "id": "fhj7RReBk4CL"
      },
      "outputs": [],
      "source": [
        "estimators = [('rf', model_voting['random_forest']), ('dt', model_voting['d_tree'])]"
      ]
    },
    {
      "cell_type": "code",
      "execution_count": 360,
      "metadata": {
        "id": "AYFfuMh4k9dP"
      },
      "outputs": [],
      "source": [
        "voting_model = VotingClassifier(estimators=estimators, voting='hard')"
      ]
    },
    {
      "cell_type": "code",
      "execution_count": 361,
      "metadata": {
        "colab": {
          "base_uri": "https://localhost:8080/"
        },
        "id": "9rCpR0GvlSAf",
        "outputId": "70a2c276-5b53-4247-e3b9-0f370a2264bb"
      },
      "outputs": [
        {
          "data": {
            "text/plain": [
              "1.0"
            ]
          },
          "execution_count": 361,
          "metadata": {},
          "output_type": "execute_result"
        }
      ],
      "source": [
        "voting_model.fit(X_train, y_train).score(X_test, y_test)"
      ]
    },
    {
      "cell_type": "code",
      "execution_count": 362,
      "metadata": {
        "id": "3lXtu9W_0H7W"
      },
      "outputs": [],
      "source": [
        "y_pred = voting_model.predict(X_test)"
      ]
    },
    {
      "cell_type": "code",
      "execution_count": 363,
      "metadata": {
        "id": "9d7u3qJclR9l"
      },
      "outputs": [],
      "source": [
        "from sklearn.metrics import classification_report"
      ]
    },
    {
      "cell_type": "code",
      "execution_count": 364,
      "metadata": {
        "colab": {
          "base_uri": "https://localhost:8080/"
        },
        "id": "jnt3Dft9lR4f",
        "outputId": "06db8827-1afb-4525-abc8-8eabec877174"
      },
      "outputs": [
        {
          "name": "stdout",
          "output_type": "stream",
          "text": [
            "              precision    recall  f1-score   support\n",
            "\n",
            "      BENIGN       1.00      1.00      1.00       308\n",
            "        http       1.00      1.00      1.00       307\n",
            "         udp       1.00      1.00      1.00        57\n",
            "\n",
            "    accuracy                           1.00       672\n",
            "   macro avg       1.00      1.00      1.00       672\n",
            "weighted avg       1.00      1.00      1.00       672\n",
            "\n"
          ]
        }
      ],
      "source": [
        "print(classification_report(y_test, y_pred, target_names=list(label.values())))"
      ]
    },
    {
      "cell_type": "code",
      "execution_count": 365,
      "metadata": {},
      "outputs": [],
      "source": [
        "from keras.models import Sequential\n",
        "from keras.layers import Dense,GRU,Embedding,Dropout,Flatten,Conv1D,MaxPooling1D,add,GlobalAveragePooling1D,LSTM\n",
        "from keras import optimizers,losses,utils,Model,Input\n",
        "from tensorflow_addons.metrics import F1Score\n",
        "\n",
        "for i,j in enumerate(X_train):\n",
        "    X_train[i]=np.array(j)\n",
        "for i,j in enumerate(X_test):\n",
        "    X_test[i]=np.array(j)\n"
      ]
    },
    {
      "cell_type": "code",
      "execution_count": 366,
      "metadata": {},
      "outputs": [
        {
          "name": "stdout",
          "output_type": "stream",
          "text": [
            "2\n",
            "[0. 0. 1.]\n",
            "[2 1]\n"
          ]
        }
      ],
      "source": [
        "def GRU_model():\n",
        "\n",
        "    model = Sequential()\n",
        "    #model.add(Embedding())\n",
        "    \n",
        "    model.add(GRU(128,input_shape=(71,1), return_sequences=True)) #\n",
        "    #model.add(GRU(64)) \n",
        "    model.add(GRU(32))\n",
        "    \n",
        "    #model.add(Dense(128, activation='relu'))\n",
        "    model.add(Dense(128, activation='relu'))\n",
        "    # model.add(Dense(64, activation='relu'))\n",
        "    model.add(Dropout(0.5))    \n",
        "    model.add(Dense(3, activation='softmax'))\n",
        "    \n",
        "    model.build()\n",
        "    print(model.summary())\n",
        "    \n",
        "    return model\n",
        "Y_train=[]\n",
        "for i in y_train:\n",
        "    j=np.zeros(3)\n",
        "    j[i]=1\n",
        "    Y_train.append(j)\n",
        "print(y_train[0])\n",
        "Y_train=np.array(Y_train)\n",
        "print(Y_train[0])\n",
        "Y_train.shape\n",
        "Y_test=[]\n",
        "for i in y_test:\n",
        "    j=np.zeros(3)\n",
        "    j[i]=1\n",
        "    Y_test.append(j)\n",
        "print(y_train[0:2])\n",
        "Y_test=np.array(Y_test)\n",
        "Y_test.shape\n",
        "\n",
        "def model1():\n",
        "    model = Sequential([\n",
        "    Conv1D(128, 16, padding='same', activation='relu', input_shape=(71,\n",
        "    1)),\n",
        "    MaxPooling1D(2),\n",
        "    Conv1D(64, 16, padding='same', activation='relu'),\n",
        "    MaxPooling1D(2),\n",
        "    Conv1D(32, 8, padding='same', activation='relu'),\n",
        "    MaxPooling1D(2),\n",
        "    Flatten(),\n",
        "    Dense(64, activation='relu'),\n",
        "    Dense(3, activation='softmax')\n",
        "    ])\n",
        "    return model\n",
        "\n",
        "def model2():\n",
        "    start = Input(shape=(71,1),name=\"a\")\n",
        "\n",
        "    x=Conv1D(128,8,activation='relu')(start)\n",
        "    x=Conv1D(64,4,activation='relu')(x)\n",
        "    x=Conv1D(64,4,activation='relu',padding='same')(x)\n",
        "    inp = MaxPooling1D(2)(x)\n",
        "\n",
        "    x=Conv1D(128,8,activation='relu',padding='same')(inp)\n",
        "    x=Conv1D(64,4,activation='relu',padding='same')(x)\n",
        "    x=Conv1D(64,4,activation='relu',padding='same')(x)\n",
        "\n",
        "    new = add([x,inp])\n",
        "\n",
        "    x=Conv1D(128,8,activation='relu',padding='same')(new)\n",
        "    x=Conv1D(64,4,activation='relu',padding='same')(x)\n",
        "    x=Conv1D(64,4,activation='relu',padding='same')(x)\n",
        "    \n",
        "    last=add([x,new])\n",
        "\n",
        "\n",
        "    x=Conv1D(128,8,activation='relu',padding='same')(last)\n",
        "    x=GlobalAveragePooling1D()(x)\n",
        "    x=Dense(128,activation='relu')(x)\n",
        "    #x=GRU(128,8)(x)\n",
        "    x=Dropout(0.5)(x)\n",
        "    out=Dense(3,activation='softmax')(x)\n",
        "\n",
        "    model=Model(start,out,name='NewNet')\n",
        "    return model\n",
        "def lstm_model():\n",
        "\n",
        "    model = Sequential()\n",
        "    #model.add(Embedding())\n",
        "    \n",
        "    model.add(LSTM(128,input_shape=(71,1), return_sequences=True)) #\n",
        "    #model.add(GRU(64)) \n",
        "    model.add(LSTM(32))\n",
        "    \n",
        "    model.add(Dense(128, activation='relu'))\n",
        "    model.add(Dense(128, activation='relu'))\n",
        "    model.add(Dense(64, activation='relu'))\n",
        "    model.add(Dropout(0.5))    \n",
        "    model.add(Dense(3, activation='softmax'))\n",
        "    \n",
        "    model.build()\n",
        "    print(model.summary())\n",
        "    \n",
        "    return model\n"
      ]
    },
    {
      "cell_type": "code",
      "execution_count": 367,
      "metadata": {},
      "outputs": [
        {
          "name": "stdout",
          "output_type": "stream",
          "text": [
            "Epoch 1/20\n",
            "49/49 [==============================] - 1s 9ms/step - loss: 592.0443 - accuracy: 0.4410 - f1_score: 0.4062\n",
            "Epoch 2/20\n",
            "49/49 [==============================] - 0s 9ms/step - loss: 282.3249 - accuracy: 0.6586 - f1_score: 0.6531\n",
            "Epoch 3/20\n",
            "49/49 [==============================] - 0s 9ms/step - loss: 324.7858 - accuracy: 0.6203 - f1_score: 0.6645\n",
            "Epoch 4/20\n",
            "49/49 [==============================] - 0s 9ms/step - loss: 172.2332 - accuracy: 0.7958 - f1_score: 0.8220\n",
            "Epoch 5/20\n",
            "49/49 [==============================] - 0s 9ms/step - loss: 114.1373 - accuracy: 0.7830 - f1_score: 0.8059\n",
            "Epoch 6/20\n",
            "49/49 [==============================] - 0s 9ms/step - loss: 101.6713 - accuracy: 0.8845 - f1_score: 0.8884\n",
            "Epoch 7/20\n",
            "49/49 [==============================] - 0s 8ms/step - loss: 116.5168 - accuracy: 0.9496 - f1_score: 0.9366\n",
            "Epoch 8/20\n",
            "49/49 [==============================] - 0s 8ms/step - loss: 68.9904 - accuracy: 0.9317 - f1_score: 0.9201\n",
            "Epoch 9/20\n",
            "49/49 [==============================] - 0s 9ms/step - loss: 89.8419 - accuracy: 0.9317 - f1_score: 0.9204\n",
            "Epoch 10/20\n",
            "49/49 [==============================] - 0s 8ms/step - loss: 216.8450 - accuracy: 0.9062 - f1_score: 0.8948\n",
            "Epoch 11/20\n",
            "49/49 [==============================] - 0s 8ms/step - loss: 102.4265 - accuracy: 0.8692 - f1_score: 0.8867\n",
            "Epoch 12/20\n",
            "49/49 [==============================] - 0s 8ms/step - loss: 128.1804 - accuracy: 0.8481 - f1_score: 0.8548\n",
            "Epoch 13/20\n",
            "49/49 [==============================] - 0s 8ms/step - loss: 107.1320 - accuracy: 0.9496 - f1_score: 0.9448\n",
            "Epoch 14/20\n",
            "49/49 [==============================] - 0s 9ms/step - loss: 22.9530 - accuracy: 0.9477 - f1_score: 0.9428\n",
            "Epoch 15/20\n",
            "49/49 [==============================] - 0s 8ms/step - loss: 18.4477 - accuracy: 0.9706 - f1_score: 0.9601\n",
            "Epoch 16/20\n",
            "49/49 [==============================] - 0s 8ms/step - loss: 61.3345 - accuracy: 0.9668 - f1_score: 0.9603\n",
            "Epoch 17/20\n",
            "49/49 [==============================] - 0s 8ms/step - loss: 24.6772 - accuracy: 0.9751 - f1_score: 0.9743\n",
            "Epoch 18/20\n",
            "49/49 [==============================] - 0s 9ms/step - loss: 4.7532 - accuracy: 0.9872 - f1_score: 0.9793\n",
            "Epoch 19/20\n",
            "49/49 [==============================] - 0s 10ms/step - loss: 6.2938 - accuracy: 0.9885 - f1_score: 0.9791\n",
            "Epoch 20/20\n",
            "49/49 [==============================] - 0s 9ms/step - loss: 12.4586 - accuracy: 0.9828 - f1_score: 0.9675\n",
            "21/21 [==============================] - 0s 2ms/step\n"
          ]
        }
      ],
      "source": [
        "from keras.utils import to_categorical\n",
        "model=model1()\n",
        "model.compile(\n",
        "    optimizer=optimizers.Adam(learning_rate=1e-3),\n",
        "    loss=losses.categorical_crossentropy,\n",
        "    metrics=['accuracy', F1Score(3)]\n",
        ")\n",
        "model.fit(X_train,Y_train, batch_size=32, epochs=20)\n",
        "\n",
        "\n",
        "mod_pred=np.argmax(model.predict(X_test), axis=1)\n",
        "mod_pred_categorical = to_categorical(mod_pred)"
      ]
    },
    {
      "cell_type": "code",
      "execution_count": 368,
      "metadata": {},
      "outputs": [
        {
          "name": "stdout",
          "output_type": "stream",
          "text": [
            "Model: \"sequential_38\"\n",
            "_________________________________________________________________\n",
            " Layer (type)                Output Shape              Param #   \n",
            "=================================================================\n",
            " conv1d_300 (Conv1D)         (None, 71, 128)           2176      \n",
            "                                                                 \n",
            " max_pooling1d_57 (MaxPoolin  (None, 35, 128)          0         \n",
            " g1D)                                                            \n",
            "                                                                 \n",
            " conv1d_301 (Conv1D)         (None, 35, 64)            131136    \n",
            "                                                                 \n",
            " max_pooling1d_58 (MaxPoolin  (None, 17, 64)           0         \n",
            " g1D)                                                            \n",
            "                                                                 \n",
            " conv1d_302 (Conv1D)         (None, 17, 32)            16416     \n",
            "                                                                 \n",
            " max_pooling1d_59 (MaxPoolin  (None, 8, 32)            0         \n",
            " g1D)                                                            \n",
            "                                                                 \n",
            " flatten_10 (Flatten)        (None, 256)               0         \n",
            "                                                                 \n",
            " dense_175 (Dense)           (None, 64)                16448     \n",
            "                                                                 \n",
            " dense_176 (Dense)           (None, 3)                 195       \n",
            "                                                                 \n",
            "=================================================================\n",
            "Total params: 166,371\n",
            "Trainable params: 166,371\n",
            "Non-trainable params: 0\n",
            "_________________________________________________________________\n"
          ]
        }
      ],
      "source": [
        "model.summary()"
      ]
    },
    {
      "cell_type": "code",
      "execution_count": 369,
      "metadata": {},
      "outputs": [
        {
          "name": "stdout",
          "output_type": "stream",
          "text": [
            "              precision    recall  f1-score   support\n",
            "\n",
            "      BENIGN       0.99      0.99      0.99       308\n",
            "        http       0.99      0.99      0.99       307\n",
            "         udp       0.98      1.00      0.99        57\n",
            "\n",
            "   micro avg       0.99      0.99      0.99       672\n",
            "   macro avg       0.99      0.99      0.99       672\n",
            "weighted avg       0.99      0.99      0.99       672\n",
            " samples avg       0.99      0.99      0.99       672\n",
            "\n"
          ]
        }
      ],
      "source": [
        "print(classification_report(Y_test, mod_pred_categorical, target_names=list(label.values())))"
      ]
    },
    {
      "cell_type": "code",
      "execution_count": 370,
      "metadata": {},
      "outputs": [
        {
          "name": "stdout",
          "output_type": "stream",
          "text": [
            "Epoch 1/20\n",
            "49/49 [==============================] - 1s 13ms/step - loss: 28.3930 - accuracy: 0.4505 - f1_score: 0.3818\n",
            "Epoch 2/20\n",
            "49/49 [==============================] - 1s 13ms/step - loss: 2.5681 - accuracy: 0.5846 - f1_score: 0.6662\n",
            "Epoch 3/20\n",
            "49/49 [==============================] - 1s 14ms/step - loss: 3.1599 - accuracy: 0.6037 - f1_score: 0.6874\n",
            "Epoch 4/20\n",
            "49/49 [==============================] - 1s 15ms/step - loss: 1.4641 - accuracy: 0.6299 - f1_score: 0.7103\n",
            "Epoch 5/20\n",
            "49/49 [==============================] - 1s 15ms/step - loss: 1.4578 - accuracy: 0.7888 - f1_score: 0.8240\n",
            "Epoch 6/20\n",
            "49/49 [==============================] - 1s 13ms/step - loss: 1.7959 - accuracy: 0.8366 - f1_score: 0.8619\n",
            "Epoch 7/20\n",
            "49/49 [==============================] - 1s 14ms/step - loss: 0.7948 - accuracy: 0.8775 - f1_score: 0.8830\n",
            "Epoch 8/20\n",
            "49/49 [==============================] - 1s 13ms/step - loss: 1.0427 - accuracy: 0.9017 - f1_score: 0.9133\n",
            "Epoch 9/20\n",
            "49/49 [==============================] - 1s 12ms/step - loss: 1.1310 - accuracy: 0.8634 - f1_score: 0.8791\n",
            "Epoch 10/20\n",
            "49/49 [==============================] - 1s 14ms/step - loss: 0.6476 - accuracy: 0.9324 - f1_score: 0.9421\n",
            "Epoch 11/20\n",
            "49/49 [==============================] - 1s 15ms/step - loss: 0.5359 - accuracy: 0.9234 - f1_score: 0.9258\n",
            "Epoch 12/20\n",
            "49/49 [==============================] - 1s 15ms/step - loss: 0.3656 - accuracy: 0.9483 - f1_score: 0.9523\n",
            "Epoch 13/20\n",
            "49/49 [==============================] - 1s 14ms/step - loss: 0.3390 - accuracy: 0.9209 - f1_score: 0.9312\n",
            "Epoch 14/20\n",
            "49/49 [==============================] - 1s 13ms/step - loss: 0.3106 - accuracy: 0.9279 - f1_score: 0.9363\n",
            "Epoch 15/20\n",
            "49/49 [==============================] - 1s 13ms/step - loss: 0.2985 - accuracy: 0.9592 - f1_score: 0.9613\n",
            "Epoch 16/20\n",
            "49/49 [==============================] - 1s 13ms/step - loss: 0.1620 - accuracy: 0.9732 - f1_score: 0.9715\n",
            "Epoch 17/20\n",
            "49/49 [==============================] - 1s 14ms/step - loss: 0.1190 - accuracy: 0.9828 - f1_score: 0.9784\n",
            "Epoch 18/20\n",
            "49/49 [==============================] - 1s 15ms/step - loss: 0.2857 - accuracy: 0.9330 - f1_score: 0.9364\n",
            "Epoch 19/20\n",
            "49/49 [==============================] - 1s 15ms/step - loss: 0.2151 - accuracy: 0.9579 - f1_score: 0.9604\n",
            "Epoch 20/20\n",
            "49/49 [==============================] - 1s 13ms/step - loss: 0.1809 - accuracy: 0.9623 - f1_score: 0.9612\n",
            "21/21 [==============================] - 0s 4ms/step\n"
          ]
        }
      ],
      "source": [
        "model=model2()\n",
        "model.compile(\n",
        "    optimizer=optimizers.Adam(learning_rate=1e-3),\n",
        "    loss=losses.categorical_crossentropy,\n",
        "    metrics=['accuracy', F1Score(3)]\n",
        ")\n",
        "model.fit(X_train,Y_train, batch_size=32, epochs=20)\n",
        "\n",
        "\n",
        "mod_pred=np.argmax(model.predict(X_test), axis=1)\n",
        "mod_pred_categorical = to_categorical(mod_pred)\n",
        "\n",
        "\n"
      ]
    },
    {
      "cell_type": "code",
      "execution_count": 371,
      "metadata": {},
      "outputs": [
        {
          "name": "stdout",
          "output_type": "stream",
          "text": [
            "Model: \"NewNet\"\n",
            "__________________________________________________________________________________________________\n",
            " Layer (type)                   Output Shape         Param #     Connected to                     \n",
            "==================================================================================================\n",
            " a (InputLayer)                 [(None, 71, 1)]      0           []                               \n",
            "                                                                                                  \n",
            " conv1d_303 (Conv1D)            (None, 64, 128)      1152        ['a[0][0]']                      \n",
            "                                                                                                  \n",
            " conv1d_304 (Conv1D)            (None, 61, 64)       32832       ['conv1d_303[0][0]']             \n",
            "                                                                                                  \n",
            " conv1d_305 (Conv1D)            (None, 61, 64)       16448       ['conv1d_304[0][0]']             \n",
            "                                                                                                  \n",
            " max_pooling1d_60 (MaxPooling1D  (None, 30, 64)      0           ['conv1d_305[0][0]']             \n",
            " )                                                                                                \n",
            "                                                                                                  \n",
            " conv1d_306 (Conv1D)            (None, 30, 128)      65664       ['max_pooling1d_60[0][0]']       \n",
            "                                                                                                  \n",
            " conv1d_307 (Conv1D)            (None, 30, 64)       32832       ['conv1d_306[0][0]']             \n",
            "                                                                                                  \n",
            " conv1d_308 (Conv1D)            (None, 30, 64)       16448       ['conv1d_307[0][0]']             \n",
            "                                                                                                  \n",
            " add_54 (Add)                   (None, 30, 64)       0           ['conv1d_308[0][0]',             \n",
            "                                                                  'max_pooling1d_60[0][0]']       \n",
            "                                                                                                  \n",
            " conv1d_309 (Conv1D)            (None, 30, 128)      65664       ['add_54[0][0]']                 \n",
            "                                                                                                  \n",
            " conv1d_310 (Conv1D)            (None, 30, 64)       32832       ['conv1d_309[0][0]']             \n",
            "                                                                                                  \n",
            " conv1d_311 (Conv1D)            (None, 30, 64)       16448       ['conv1d_310[0][0]']             \n",
            "                                                                                                  \n",
            " add_55 (Add)                   (None, 30, 64)       0           ['conv1d_311[0][0]',             \n",
            "                                                                  'add_54[0][0]']                 \n",
            "                                                                                                  \n",
            " conv1d_312 (Conv1D)            (None, 30, 128)      65664       ['add_55[0][0]']                 \n",
            "                                                                                                  \n",
            " global_average_pooling1d_27 (G  (None, 128)         0           ['conv1d_312[0][0]']             \n",
            " lobalAveragePooling1D)                                                                           \n",
            "                                                                                                  \n",
            " dense_177 (Dense)              (None, 128)          16512       ['global_average_pooling1d_27[0][\n",
            "                                                                 0]']                             \n",
            "                                                                                                  \n",
            " dropout_55 (Dropout)           (None, 128)          0           ['dense_177[0][0]']              \n",
            "                                                                                                  \n",
            " dense_178 (Dense)              (None, 3)            387         ['dropout_55[0][0]']             \n",
            "                                                                                                  \n",
            "==================================================================================================\n",
            "Total params: 362,883\n",
            "Trainable params: 362,883\n",
            "Non-trainable params: 0\n",
            "__________________________________________________________________________________________________\n"
          ]
        }
      ],
      "source": [
        "model.summary()"
      ]
    },
    {
      "cell_type": "code",
      "execution_count": 372,
      "metadata": {},
      "outputs": [
        {
          "name": "stdout",
          "output_type": "stream",
          "text": [
            "              precision    recall  f1-score   support\n",
            "\n",
            "      BENIGN       1.00      0.94      0.97       308\n",
            "        http       0.95      1.00      0.97       307\n",
            "         udp       1.00      1.00      1.00        57\n",
            "\n",
            "   micro avg       0.97      0.97      0.97       672\n",
            "   macro avg       0.98      0.98      0.98       672\n",
            "weighted avg       0.98      0.97      0.97       672\n",
            " samples avg       0.97      0.97      0.97       672\n",
            "\n"
          ]
        }
      ],
      "source": [
        "print(classification_report(Y_test, mod_pred_categorical, target_names=list(label.values())))"
      ]
    },
    {
      "cell_type": "code",
      "execution_count": 373,
      "metadata": {},
      "outputs": [
        {
          "name": "stdout",
          "output_type": "stream",
          "text": [
            "Model: \"sequential_39\"\n",
            "_________________________________________________________________\n",
            " Layer (type)                Output Shape              Param #   \n",
            "=================================================================\n",
            " gru_26 (GRU)                (None, 71, 128)           50304     \n",
            "                                                                 \n",
            " gru_27 (GRU)                (None, 32)                15552     \n",
            "                                                                 \n",
            " dense_179 (Dense)           (None, 128)               4224      \n",
            "                                                                 \n",
            " dropout_56 (Dropout)        (None, 128)               0         \n",
            "                                                                 \n",
            " dense_180 (Dense)           (None, 3)                 387       \n",
            "                                                                 \n",
            "=================================================================\n",
            "Total params: 70,467\n",
            "Trainable params: 70,467\n",
            "Non-trainable params: 0\n",
            "_________________________________________________________________\n",
            "None\n",
            "Model: \"sequential_39\"\n",
            "_________________________________________________________________\n",
            " Layer (type)                Output Shape              Param #   \n",
            "=================================================================\n",
            " gru_26 (GRU)                (None, 71, 128)           50304     \n",
            "                                                                 \n",
            " gru_27 (GRU)                (None, 32)                15552     \n",
            "                                                                 \n",
            " dense_179 (Dense)           (None, 128)               4224      \n",
            "                                                                 \n",
            " dropout_56 (Dropout)        (None, 128)               0         \n",
            "                                                                 \n",
            " dense_180 (Dense)           (None, 3)                 387       \n",
            "                                                                 \n",
            "=================================================================\n",
            "Total params: 70,467\n",
            "Trainable params: 70,467\n",
            "Non-trainable params: 0\n",
            "_________________________________________________________________\n",
            "Epoch 1/20\n",
            "49/49 [==============================] - 3s 31ms/step - loss: 0.7697 - accuracy: 0.5775 - f1_score: 0.5869\n",
            "Epoch 2/20\n",
            "49/49 [==============================] - 2s 32ms/step - loss: 0.2728 - accuracy: 0.9036 - f1_score: 0.9009\n",
            "Epoch 3/20\n",
            "49/49 [==============================] - 2s 32ms/step - loss: 0.1659 - accuracy: 0.9534 - f1_score: 0.9460\n",
            "Epoch 4/20\n",
            "49/49 [==============================] - 1s 30ms/step - loss: 0.2460 - accuracy: 0.9285 - f1_score: 0.9258\n",
            "Epoch 5/20\n",
            "49/49 [==============================] - 1s 31ms/step - loss: 0.0593 - accuracy: 0.9911 - f1_score: 0.9880\n",
            "Epoch 6/20\n",
            "49/49 [==============================] - 1s 29ms/step - loss: 0.0383 - accuracy: 0.9936 - f1_score: 0.9910\n",
            "Epoch 7/20\n",
            "49/49 [==============================] - 1s 29ms/step - loss: 0.0346 - accuracy: 0.9949 - f1_score: 0.9919\n",
            "Epoch 8/20\n",
            "49/49 [==============================] - 1s 29ms/step - loss: 0.0378 - accuracy: 0.9930 - f1_score: 0.9894\n",
            "Epoch 9/20\n",
            "49/49 [==============================] - 1s 29ms/step - loss: 0.0294 - accuracy: 0.9968 - f1_score: 0.9944\n",
            "Epoch 10/20\n",
            "49/49 [==============================] - 2s 32ms/step - loss: 0.0269 - accuracy: 0.9962 - f1_score: 0.9939\n",
            "Epoch 11/20\n",
            "49/49 [==============================] - 2s 32ms/step - loss: 0.0327 - accuracy: 0.9962 - f1_score: 0.9928\n",
            "Epoch 12/20\n",
            "49/49 [==============================] - 2s 33ms/step - loss: 0.0301 - accuracy: 0.9962 - f1_score: 0.9928\n",
            "Epoch 13/20\n",
            "49/49 [==============================] - 1s 30ms/step - loss: 0.0296 - accuracy: 0.9955 - f1_score: 0.9923\n",
            "Epoch 14/20\n",
            "49/49 [==============================] - 1s 29ms/step - loss: 0.0199 - accuracy: 0.9968 - f1_score: 0.9944\n",
            "Epoch 15/20\n",
            "49/49 [==============================] - 1s 31ms/step - loss: 0.0216 - accuracy: 0.9955 - f1_score: 0.9923\n",
            "Epoch 16/20\n",
            "49/49 [==============================] - 2s 33ms/step - loss: 0.0638 - accuracy: 0.9847 - f1_score: 0.9701\n",
            "Epoch 17/20\n",
            "49/49 [==============================] - 2s 32ms/step - loss: 0.0568 - accuracy: 0.9860 - f1_score: 0.9759\n",
            "Epoch 18/20\n",
            "49/49 [==============================] - 2s 34ms/step - loss: 0.0394 - accuracy: 0.9904 - f1_score: 0.9783\n",
            "Epoch 19/20\n",
            "49/49 [==============================] - 2s 34ms/step - loss: 0.0358 - accuracy: 0.9923 - f1_score: 0.9827\n",
            "Epoch 20/20\n",
            "49/49 [==============================] - 2s 33ms/step - loss: 0.0370 - accuracy: 0.9911 - f1_score: 0.9808\n",
            "21/21 [==============================] - 1s 8ms/step\n"
          ]
        }
      ],
      "source": [
        "model=GRU_model()\n",
        "model.compile(\n",
        "    optimizer=optimizers.Adam(learning_rate=1e-3),\n",
        "    loss=losses.categorical_crossentropy,\n",
        "    metrics=['accuracy', F1Score(3)]\n",
        ")\n",
        "model.summary()\n",
        "model.fit(X_train,Y_train, batch_size=32, epochs=20)\n",
        "\n",
        "\n",
        "mod_pred=np.argmax(model.predict(X_test), axis=1)\n",
        "mod_pred_categorical = to_categorical(mod_pred)"
      ]
    },
    {
      "cell_type": "code",
      "execution_count": 374,
      "metadata": {},
      "outputs": [
        {
          "name": "stdout",
          "output_type": "stream",
          "text": [
            "Model: \"sequential_39\"\n",
            "_________________________________________________________________\n",
            " Layer (type)                Output Shape              Param #   \n",
            "=================================================================\n",
            " gru_26 (GRU)                (None, 71, 128)           50304     \n",
            "                                                                 \n",
            " gru_27 (GRU)                (None, 32)                15552     \n",
            "                                                                 \n",
            " dense_179 (Dense)           (None, 128)               4224      \n",
            "                                                                 \n",
            " dropout_56 (Dropout)        (None, 128)               0         \n",
            "                                                                 \n",
            " dense_180 (Dense)           (None, 3)                 387       \n",
            "                                                                 \n",
            "=================================================================\n",
            "Total params: 70,467\n",
            "Trainable params: 70,467\n",
            "Non-trainable params: 0\n",
            "_________________________________________________________________\n"
          ]
        }
      ],
      "source": [
        "model.summary()"
      ]
    },
    {
      "cell_type": "code",
      "execution_count": 375,
      "metadata": {},
      "outputs": [
        {
          "name": "stdout",
          "output_type": "stream",
          "text": [
            "              precision    recall  f1-score   support\n",
            "\n",
            "      BENIGN       1.00      0.99      1.00       308\n",
            "        http       1.00      1.00      1.00       307\n",
            "         udp       0.97      1.00      0.98        57\n",
            "\n",
            "   micro avg       1.00      1.00      1.00       672\n",
            "   macro avg       0.99      1.00      0.99       672\n",
            "weighted avg       1.00      1.00      1.00       672\n",
            " samples avg       1.00      1.00      1.00       672\n",
            "\n"
          ]
        }
      ],
      "source": [
        "print(classification_report(Y_test, mod_pred_categorical, target_names=list(label.values())))"
      ]
    },
    {
      "cell_type": "code",
      "execution_count": 376,
      "metadata": {},
      "outputs": [
        {
          "name": "stdout",
          "output_type": "stream",
          "text": [
            "Model: \"sequential_40\"\n",
            "_________________________________________________________________\n",
            " Layer (type)                Output Shape              Param #   \n",
            "=================================================================\n",
            " lstm_30 (LSTM)              (None, 71, 128)           66560     \n",
            "                                                                 \n",
            " lstm_31 (LSTM)              (None, 32)                20608     \n",
            "                                                                 \n",
            " dense_181 (Dense)           (None, 128)               4224      \n",
            "                                                                 \n",
            " dense_182 (Dense)           (None, 128)               16512     \n",
            "                                                                 \n",
            " dense_183 (Dense)           (None, 64)                8256      \n",
            "                                                                 \n",
            " dropout_57 (Dropout)        (None, 64)                0         \n",
            "                                                                 \n",
            " dense_184 (Dense)           (None, 3)                 195       \n",
            "                                                                 \n",
            "=================================================================\n",
            "Total params: 116,355\n",
            "Trainable params: 116,355\n",
            "Non-trainable params: 0\n",
            "_________________________________________________________________\n",
            "None\n",
            "Model: \"sequential_40\"\n",
            "_________________________________________________________________\n",
            " Layer (type)                Output Shape              Param #   \n",
            "=================================================================\n",
            " lstm_30 (LSTM)              (None, 71, 128)           66560     \n",
            "                                                                 \n",
            " lstm_31 (LSTM)              (None, 32)                20608     \n",
            "                                                                 \n",
            " dense_181 (Dense)           (None, 128)               4224      \n",
            "                                                                 \n",
            " dense_182 (Dense)           (None, 128)               16512     \n",
            "                                                                 \n",
            " dense_183 (Dense)           (None, 64)                8256      \n",
            "                                                                 \n",
            " dropout_57 (Dropout)        (None, 64)                0         \n",
            "                                                                 \n",
            " dense_184 (Dense)           (None, 3)                 195       \n",
            "                                                                 \n",
            "=================================================================\n",
            "Total params: 116,355\n",
            "Trainable params: 116,355\n",
            "Non-trainable params: 0\n",
            "_________________________________________________________________\n",
            "Epoch 1/20\n",
            "49/49 [==============================] - 4s 36ms/step - loss: 0.7355 - accuracy: 0.5871 - f1_score: 0.5950\n",
            "Epoch 2/20\n",
            "49/49 [==============================] - 2s 36ms/step - loss: 0.4011 - accuracy: 0.8532 - f1_score: 0.8595\n",
            "Epoch 3/20\n",
            "49/49 [==============================] - 2s 35ms/step - loss: 0.5906 - accuracy: 0.7211 - f1_score: 0.7757\n",
            "Epoch 4/20\n",
            "49/49 [==============================] - 2s 36ms/step - loss: 0.5267 - accuracy: 0.7301 - f1_score: 0.7824\n",
            "Epoch 5/20\n",
            "49/49 [==============================] - 2s 36ms/step - loss: 0.5066 - accuracy: 0.7466 - f1_score: 0.7971\n",
            "Epoch 6/20\n",
            "49/49 [==============================] - 2s 34ms/step - loss: 0.4064 - accuracy: 0.8405 - f1_score: 0.8689\n",
            "Epoch 7/20\n",
            "49/49 [==============================] - 2s 33ms/step - loss: 0.3854 - accuracy: 0.8271 - f1_score: 0.8589\n",
            "Epoch 8/20\n",
            "49/49 [==============================] - 2s 35ms/step - loss: 0.3814 - accuracy: 0.8226 - f1_score: 0.8538\n",
            "Epoch 9/20\n",
            "49/49 [==============================] - 2s 36ms/step - loss: 0.2024 - accuracy: 0.9592 - f1_score: 0.9526\n",
            "Epoch 10/20\n",
            "49/49 [==============================] - 2s 33ms/step - loss: 0.1121 - accuracy: 0.9757 - f1_score: 0.9637\n",
            "Epoch 11/20\n",
            "49/49 [==============================] - 2s 35ms/step - loss: 0.0590 - accuracy: 0.9847 - f1_score: 0.9663\n",
            "Epoch 12/20\n",
            "49/49 [==============================] - 2s 36ms/step - loss: 0.0586 - accuracy: 0.9834 - f1_score: 0.9654\n",
            "Epoch 13/20\n",
            "49/49 [==============================] - 2s 37ms/step - loss: 0.1048 - accuracy: 0.9757 - f1_score: 0.9609\n",
            "Epoch 14/20\n",
            "49/49 [==============================] - 2s 33ms/step - loss: 0.0773 - accuracy: 0.9815 - f1_score: 0.9640\n",
            "Epoch 15/20\n",
            "49/49 [==============================] - 2s 35ms/step - loss: 0.0683 - accuracy: 0.9834 - f1_score: 0.9674\n",
            "Epoch 16/20\n",
            "49/49 [==============================] - 2s 35ms/step - loss: 0.0605 - accuracy: 0.9853 - f1_score: 0.9689\n",
            "Epoch 17/20\n",
            "49/49 [==============================] - 2s 34ms/step - loss: 0.0636 - accuracy: 0.9853 - f1_score: 0.9736\n",
            "Epoch 18/20\n",
            "49/49 [==============================] - 2s 34ms/step - loss: 0.0435 - accuracy: 0.9879 - f1_score: 0.9722\n",
            "Epoch 19/20\n",
            "49/49 [==============================] - 2s 35ms/step - loss: 0.0364 - accuracy: 0.9898 - f1_score: 0.9759\n",
            "Epoch 20/20\n",
            "49/49 [==============================] - 2s 33ms/step - loss: 0.0371 - accuracy: 0.9917 - f1_score: 0.9802\n",
            "21/21 [==============================] - 1s 11ms/step\n"
          ]
        }
      ],
      "source": [
        "model=lstm_model()\n",
        "model.compile(\n",
        "    optimizer=optimizers.Adam(learning_rate=1e-3),\n",
        "    loss=losses.categorical_crossentropy,\n",
        "    metrics=['accuracy', F1Score(3)]\n",
        ")\n",
        "model.summary()\n",
        "model.fit(X_train,Y_train, batch_size=32, epochs=20)\n",
        "\n",
        "\n",
        "mod_pred=np.argmax(model.predict(X_test), axis=1)\n",
        "mod_pred_categorical = to_categorical(mod_pred)"
      ]
    },
    {
      "cell_type": "code",
      "execution_count": 377,
      "metadata": {},
      "outputs": [
        {
          "name": "stdout",
          "output_type": "stream",
          "text": [
            "Model: \"sequential_40\"\n",
            "_________________________________________________________________\n",
            " Layer (type)                Output Shape              Param #   \n",
            "=================================================================\n",
            " lstm_30 (LSTM)              (None, 71, 128)           66560     \n",
            "                                                                 \n",
            " lstm_31 (LSTM)              (None, 32)                20608     \n",
            "                                                                 \n",
            " dense_181 (Dense)           (None, 128)               4224      \n",
            "                                                                 \n",
            " dense_182 (Dense)           (None, 128)               16512     \n",
            "                                                                 \n",
            " dense_183 (Dense)           (None, 64)                8256      \n",
            "                                                                 \n",
            " dropout_57 (Dropout)        (None, 64)                0         \n",
            "                                                                 \n",
            " dense_184 (Dense)           (None, 3)                 195       \n",
            "                                                                 \n",
            "=================================================================\n",
            "Total params: 116,355\n",
            "Trainable params: 116,355\n",
            "Non-trainable params: 0\n",
            "_________________________________________________________________\n"
          ]
        }
      ],
      "source": [
        "model.summary()"
      ]
    },
    {
      "cell_type": "code",
      "execution_count": 378,
      "metadata": {},
      "outputs": [
        {
          "name": "stdout",
          "output_type": "stream",
          "text": [
            "              precision    recall  f1-score   support\n",
            "\n",
            "      BENIGN       1.00      0.99      1.00       308\n",
            "        http       1.00      1.00      1.00       307\n",
            "         udp       0.97      1.00      0.98        57\n",
            "\n",
            "   micro avg       1.00      1.00      1.00       672\n",
            "   macro avg       0.99      1.00      0.99       672\n",
            "weighted avg       1.00      1.00      1.00       672\n",
            " samples avg       1.00      1.00      1.00       672\n",
            "\n"
          ]
        }
      ],
      "source": [
        "print(classification_report(Y_test, mod_pred_categorical, target_names=list(label.values())))"
      ]
    },
    {
      "cell_type": "code",
      "execution_count": 395,
      "metadata": {},
      "outputs": [
        {
          "name": "stdout",
          "output_type": "stream",
          "text": [
            "Model: \"sequential_56\"\n",
            "_________________________________________________________________\n",
            " Layer (type)                Output Shape              Param #   \n",
            "=================================================================\n",
            " gru_38 (GRU)                (None, 71, 128)           50304     \n",
            "                                                                 \n",
            " gru_39 (GRU)                (None, 32)                15552     \n",
            "                                                                 \n",
            " dense_240 (Dense)           (None, 128)               4224      \n",
            "                                                                 \n",
            " dropout_73 (Dropout)        (None, 128)               0         \n",
            "                                                                 \n",
            " dense_241 (Dense)           (None, 3)                 387       \n",
            "                                                                 \n",
            "=================================================================\n",
            "Total params: 70,467\n",
            "Trainable params: 70,467\n",
            "Non-trainable params: 0\n",
            "_________________________________________________________________\n",
            "None\n",
            "Model: \"sequential_58\"\n",
            "_________________________________________________________________\n",
            " Layer (type)                Output Shape              Param #   \n",
            "=================================================================\n",
            " lstm_42 (LSTM)              (None, 71, 128)           66560     \n",
            "                                                                 \n",
            " lstm_43 (LSTM)              (None, 32)                20608     \n",
            "                                                                 \n",
            " dense_244 (Dense)           (None, 128)               4224      \n",
            "                                                                 \n",
            " dense_245 (Dense)           (None, 128)               16512     \n",
            "                                                                 \n",
            " dense_246 (Dense)           (None, 64)                8256      \n",
            "                                                                 \n",
            " dropout_74 (Dropout)        (None, 64)                0         \n",
            "                                                                 \n",
            " dense_247 (Dense)           (None, 3)                 195       \n",
            "                                                                 \n",
            "=================================================================\n",
            "Total params: 116,355\n",
            "Trainable params: 116,355\n",
            "Non-trainable params: 0\n",
            "_________________________________________________________________\n",
            "None\n"
          ]
        }
      ],
      "source": [
        "from keras.layers import concatenate\n",
        "\n",
        "def ensemble_model():\n",
        "    input_layer = Input(shape=(71,1))\n",
        "    # модель GRU\n",
        "    gru_model = GRU_model()(input_layer)\n",
        "\n",
        "    # модель model1\n",
        "    model_1 = model1()(input_layer)\n",
        "\n",
        "    # модель model2\n",
        "    #model_2 = model2()(input_layer)\n",
        "\n",
        "    # модель lstm\n",
        "    lstm = lstm_model()(input_layer)\n",
        "\n",
        "    # Объединение выходов моделей\n",
        "    merge = concatenate([model_1,gru_model, lstm])\n",
        "\n",
        "    # Полносвязный слой\n",
        "    dense = Dense(128, activation='relu')(merge)\n",
        "\n",
        "    # Выходной слой\n",
        "    output_layer = Dense(3, activation='softmax')(dense)\n",
        "\n",
        "    # Создание модели-ансамбля\n",
        "    ensemble = Model(inputs=input_layer, outputs=output_layer, name='Ensemble')\n",
        "\n",
        "    return ensemble\n",
        "model = ensemble_model()\n"
      ]
    },
    {
      "cell_type": "code",
      "execution_count": 396,
      "metadata": {},
      "outputs": [
        {
          "name": "stdout",
          "output_type": "stream",
          "text": [
            "Model: \"Ensemble\"\n",
            "__________________________________________________________________________________________________\n",
            " Layer (type)                   Output Shape         Param #     Connected to                     \n",
            "==================================================================================================\n",
            " input_16 (InputLayer)          [(None, 71, 1)]      0           []                               \n",
            "                                                                                                  \n",
            " sequential_57 (Sequential)     (None, 3)            166371      ['input_16[0][0]']               \n",
            "                                                                                                  \n",
            " sequential_56 (Sequential)     (None, 3)            70467       ['input_16[0][0]']               \n",
            "                                                                                                  \n",
            " sequential_58 (Sequential)     (None, 3)            116355      ['input_16[0][0]']               \n",
            "                                                                                                  \n",
            " concatenate_14 (Concatenate)   (None, 9)            0           ['sequential_57[0][0]',          \n",
            "                                                                  'sequential_56[0][0]',          \n",
            "                                                                  'sequential_58[0][0]']          \n",
            "                                                                                                  \n",
            " dense_248 (Dense)              (None, 128)          1280        ['concatenate_14[0][0]']         \n",
            "                                                                                                  \n",
            " dense_249 (Dense)              (None, 3)            387         ['dense_248[0][0]']              \n",
            "                                                                                                  \n",
            "==================================================================================================\n",
            "Total params: 354,860\n",
            "Trainable params: 354,860\n",
            "Non-trainable params: 0\n",
            "__________________________________________________________________________________________________\n",
            "Epoch 1/20\n",
            "49/49 [==============================] - 7s 48ms/step - loss: 0.9682 - accuracy: 0.5086 - f1_score: 0.4124\n",
            "Epoch 2/20\n",
            "49/49 [==============================] - 2s 45ms/step - loss: 0.7290 - accuracy: 0.6548 - f1_score: 0.5796\n",
            "Epoch 3/20\n",
            "49/49 [==============================] - 2s 45ms/step - loss: 0.5675 - accuracy: 0.7607 - f1_score: 0.7966\n",
            "Epoch 4/20\n",
            "49/49 [==============================] - 2s 45ms/step - loss: 0.2299 - accuracy: 0.9585 - f1_score: 0.9493\n",
            "Epoch 5/20\n",
            "49/49 [==============================] - 2s 44ms/step - loss: 0.1341 - accuracy: 0.9751 - f1_score: 0.9652\n",
            "Epoch 6/20\n",
            "49/49 [==============================] - 2s 45ms/step - loss: 0.1012 - accuracy: 0.9770 - f1_score: 0.9705\n",
            "Epoch 7/20\n",
            "49/49 [==============================] - 2s 44ms/step - loss: 0.0917 - accuracy: 0.9757 - f1_score: 0.9666\n",
            "Epoch 8/20\n",
            "49/49 [==============================] - 2s 44ms/step - loss: 0.0770 - accuracy: 0.9821 - f1_score: 0.9733\n",
            "Epoch 9/20\n",
            "49/49 [==============================] - 2s 43ms/step - loss: 0.0637 - accuracy: 0.9853 - f1_score: 0.9756\n",
            "Epoch 10/20\n",
            "49/49 [==============================] - 2s 43ms/step - loss: 0.0592 - accuracy: 0.9866 - f1_score: 0.9775\n",
            "Epoch 11/20\n",
            "49/49 [==============================] - 2s 43ms/step - loss: 0.1000 - accuracy: 0.9764 - f1_score: 0.9679\n",
            "Epoch 12/20\n",
            "49/49 [==============================] - 2s 43ms/step - loss: 0.1651 - accuracy: 0.9572 - f1_score: 0.9551\n",
            "Epoch 13/20\n",
            "49/49 [==============================] - 2s 43ms/step - loss: 0.0618 - accuracy: 0.9872 - f1_score: 0.9780\n",
            "Epoch 14/20\n",
            "49/49 [==============================] - 2s 50ms/step - loss: 0.0604 - accuracy: 0.9860 - f1_score: 0.9770\n",
            "Epoch 15/20\n",
            "49/49 [==============================] - 2s 47ms/step - loss: 0.0641 - accuracy: 0.9866 - f1_score: 0.9775\n",
            "Epoch 16/20\n",
            "49/49 [==============================] - 2s 45ms/step - loss: 0.0676 - accuracy: 0.9840 - f1_score: 0.9735\n",
            "Epoch 17/20\n",
            "49/49 [==============================] - 2s 45ms/step - loss: 0.0569 - accuracy: 0.9879 - f1_score: 0.9784\n",
            "Epoch 18/20\n",
            "49/49 [==============================] - 2s 46ms/step - loss: 0.0717 - accuracy: 0.9834 - f1_score: 0.9752\n",
            "Epoch 19/20\n",
            "49/49 [==============================] - 2s 46ms/step - loss: 0.0504 - accuracy: 0.9892 - f1_score: 0.9794\n",
            "Epoch 20/20\n",
            "49/49 [==============================] - 2s 44ms/step - loss: 0.0514 - accuracy: 0.9879 - f1_score: 0.9784\n",
            "21/21 [==============================] - 1s 14ms/step\n"
          ]
        }
      ],
      "source": [
        "model.compile(\n",
        "    optimizer=optimizers.Adam(learning_rate=1e-3),\n",
        "    loss=losses.categorical_crossentropy,\n",
        "    metrics=['accuracy', F1Score(3)]\n",
        ")\n",
        "model.summary()\n",
        "model.fit(X_train,Y_train, batch_size=32, epochs=20)\n",
        "\n",
        "\n",
        "mod_pred=np.argmax(model.predict(X_test), axis=1)\n",
        "mod_pred_categorical = to_categorical(mod_pred)"
      ]
    },
    {
      "cell_type": "code",
      "execution_count": 397,
      "metadata": {},
      "outputs": [
        {
          "name": "stdout",
          "output_type": "stream",
          "text": [
            "Model: \"Ensemble\"\n",
            "__________________________________________________________________________________________________\n",
            " Layer (type)                   Output Shape         Param #     Connected to                     \n",
            "==================================================================================================\n",
            " input_16 (InputLayer)          [(None, 71, 1)]      0           []                               \n",
            "                                                                                                  \n",
            " sequential_57 (Sequential)     (None, 3)            166371      ['input_16[0][0]']               \n",
            "                                                                                                  \n",
            " sequential_56 (Sequential)     (None, 3)            70467       ['input_16[0][0]']               \n",
            "                                                                                                  \n",
            " sequential_58 (Sequential)     (None, 3)            116355      ['input_16[0][0]']               \n",
            "                                                                                                  \n",
            " concatenate_14 (Concatenate)   (None, 9)            0           ['sequential_57[0][0]',          \n",
            "                                                                  'sequential_56[0][0]',          \n",
            "                                                                  'sequential_58[0][0]']          \n",
            "                                                                                                  \n",
            " dense_248 (Dense)              (None, 128)          1280        ['concatenate_14[0][0]']         \n",
            "                                                                                                  \n",
            " dense_249 (Dense)              (None, 3)            387         ['dense_248[0][0]']              \n",
            "                                                                                                  \n",
            "==================================================================================================\n",
            "Total params: 354,860\n",
            "Trainable params: 354,860\n",
            "Non-trainable params: 0\n",
            "__________________________________________________________________________________________________\n"
          ]
        }
      ],
      "source": [
        "model.summary()"
      ]
    },
    {
      "cell_type": "code",
      "execution_count": 398,
      "metadata": {},
      "outputs": [
        {
          "name": "stdout",
          "output_type": "stream",
          "text": [
            "              precision    recall  f1-score   support\n",
            "\n",
            "      BENIGN       0.99      0.99      0.99       308\n",
            "        http       1.00      0.99      0.99       307\n",
            "         udp       0.93      1.00      0.97        57\n",
            "\n",
            "   micro avg       0.99      0.99      0.99       672\n",
            "   macro avg       0.97      0.99      0.98       672\n",
            "weighted avg       0.99      0.99      0.99       672\n",
            " samples avg       0.99      0.99      0.99       672\n",
            "\n"
          ]
        }
      ],
      "source": [
        "print(classification_report(Y_test, mod_pred_categorical, target_names=list(label.values())))"
      ]
    }
  ],
  "metadata": {
    "colab": {
      "collapsed_sections": [],
      "provenance": []
    },
    "kernelspec": {
      "display_name": "Python 3.10.6 64-bit",
      "language": "python",
      "name": "python3"
    },
    "language_info": {
      "codemirror_mode": {
        "name": "ipython",
        "version": 3
      },
      "file_extension": ".py",
      "mimetype": "text/x-python",
      "name": "python",
      "nbconvert_exporter": "python",
      "pygments_lexer": "ipython3",
      "version": "3.10.6"
    },
    "vscode": {
      "interpreter": {
        "hash": "916dbcbb3f70747c44a77c7bcd40155683ae19c65e1c03b4aa3499c5328201f1"
      }
    }
  },
  "nbformat": 4,
  "nbformat_minor": 0
}
