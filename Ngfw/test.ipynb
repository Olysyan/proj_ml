{
 "cells": [
  {
   "cell_type": "code",
   "execution_count": 483,
   "metadata": {},
   "outputs": [],
   "source": [
    "import json\n",
    "\n",
    "# Load train and test data\n",
    "with open('train.json', 'r', encoding='utf-8') as f:\n",
    "    train = json.load(f)\n",
    "\n",
    "with open('nemwaf.json', 'r', encoding='utf-8') as f:\n",
    "    test = json.load(f)\n",
    "\n",
    "# Extract payload and injection data\n",
    "X_train = [item.get(\"payload\", []) for item in train]\n",
    "X_test = [item.get(\"payload\", []) for item in test]\n",
    "y_train = [item.get(\"injection\", []) for item in train]\n",
    "y_test = [item.get(\"injection\", []) for item in test]\n",
    "\n",
    "# Create a list to hold the combined JSON elements\n",
    "combined_json = []\n",
    "\n",
    "# Iterate over the elements and create combined JSON\n",
    "for x_train, y_train in zip(X_train, y_train):\n",
    "    combined_element = {\n",
    "        \"payload\": x_train,\n",
    "        \"injection\": y_train\n",
    "    }\n",
    "    combined_json.append(combined_element)\n",
    "\n",
    "for x_test, y_test in zip(X_test, y_test):\n",
    "    combined_element = {\n",
    "        \"payload\": x_test,\n",
    "        \"injection\": y_test\n",
    "    }\n",
    "    combined_json.append(combined_element)\n",
    "\n",
    "\n",
    "dat=[item.get(\"payload\", []) for item in combined_json]\n",
    "inj=[item.get(\"injection\", []) for item in combined_json]"
   ]
  },
  {
   "cell_type": "code",
   "execution_count": 484,
   "metadata": {},
   "outputs": [],
   "source": [
    "from sklearn.model_selection import train_test_split\n",
    "X_train, X_test, y_train, y_test=train_test_split(dat,inj, test_size=0.2, random_state=42)"
   ]
  },
  {
   "cell_type": "code",
   "execution_count": 485,
   "metadata": {},
   "outputs": [],
   "source": [
    "from keras.preprocessing.text import Tokenizer\n",
    "\n",
    "from sklearn.preprocessing import LabelEncoder\n",
    "\n",
    "# Создаем объект LabelEncoder и преобразуем значения y_train и y_test\n",
    "label_encoder = LabelEncoder()\n",
    "y_train = label_encoder.fit_transform(y_train)\n",
    "y_test = label_encoder.transform(y_test)\n",
    "# Создаем объект Tokenizer и преобразуем инъекцию в числовые данные\n",
    "tokenizer = Tokenizer(num_words=1000)\n",
    "tokenizer.fit_on_texts(X_train)\n",
    "X_train = tokenizer.texts_to_matrix(X_train, mode='binary')\n",
    "X_test = tokenizer.texts_to_matrix(X_test, mode='binary')\n"
   ]
  },
  {
   "cell_type": "code",
   "execution_count": 487,
   "metadata": {},
   "outputs": [
    {
     "name": "stdout",
     "output_type": "stream",
     "text": [
      "Accuracy: 0.9600272026598157\n",
      "Precision: 0.9594224924012158\n",
      "Recall: 0.9601520912547529\n",
      "F1 score: 0.9597871531736982\n"
     ]
    },
    {
     "name": "stderr",
     "output_type": "stream",
     "text": [
      "/home/dmitrii/.local/lib/python3.10/site-packages/sklearn/linear_model/_logistic.py:814: ConvergenceWarning: lbfgs failed to converge (status=1):\n",
      "STOP: TOTAL NO. of ITERATIONS REACHED LIMIT.\n",
      "\n",
      "Increase the number of iterations (max_iter) or scale the data as shown in:\n",
      "    https://scikit-learn.org/stable/modules/preprocessing.html\n",
      "Please also refer to the documentation for alternative solver options:\n",
      "    https://scikit-learn.org/stable/modules/linear_model.html#logistic-regression\n",
      "  n_iter_i = _check_optimize_result(\n"
     ]
    }
   ],
   "source": [
    "from sklearn.linear_model import LogisticRegression\n",
    "from sklearn.metrics import accuracy_score, precision_score, recall_score, f1_score\n",
    "# Создание объекта модели\n",
    "lr = LogisticRegression(C=10.0)\n",
    "\n",
    "# Обучение модели на обучающих данных\n",
    "lr.fit(X_train, y_train)\n",
    "\n",
    "# Прогнозирование меток классов на тестовых данных\n",
    "y_pred = lr.predict(X_test)\n",
    "\n",
    "# Оценка качества модели\n",
    "from sklearn.metrics import accuracy_score\n",
    "\n",
    "# Вычисление метрик качества\n",
    "accuracy = accuracy_score(y_test, y_pred)\n",
    "precision = precision_score(y_test, y_pred)\n",
    "recall = recall_score(y_test, y_pred)\n",
    "f1 = f1_score(y_test, y_pred)\n",
    "\n",
    "# Вывод метрик качества\n",
    "print(\"Accuracy:\", accuracy)\n",
    "print(\"Precision:\", precision)\n",
    "print(\"Recall:\", recall)\n",
    "print(\"F1 score:\", f1)"
   ]
  },
  {
   "cell_type": "code",
   "execution_count": 488,
   "metadata": {},
   "outputs": [
    {
     "name": "stdout",
     "output_type": "stream",
     "text": [
      "[0.98608472 1.01431364]\n",
      "{0: 0.9860847211355762, 1: 1.014313635318464}\n"
     ]
    }
   ],
   "source": [
    "from sklearn.ensemble import RandomForestClassifier\n",
    "from sklearn.model_selection import GridSearchCV\n",
    "from sklearn.utils import class_weight\n",
    "import numpy as np\n",
    "class_weights = class_weight.compute_class_weight(\n",
    "    class_weight='balanced',\n",
    "    classes=np.unique(y_train),\n",
    "    y=y_train\n",
    ")\n",
    "\n",
    "print(class_weights)\n",
    "\n",
    "# Must be in dict format for scikitlearn\n",
    "class_weights = {\n",
    "    0: class_weights[0],\n",
    "    1: class_weights[1],\n",
    "    \n",
    "}\n",
    "\n",
    "print(class_weights)\n",
    "model = RandomForestClassifier(\n",
    "    n_estimators=100,\n",
    "    criterion='gini',\n",
    "    max_depth=None,\n",
    "    min_samples_split=2,\n",
    "    min_samples_leaf=1,\n",
    "    min_weight_fraction_leaf=0.0,\n",
    "    max_features='auto',\n",
    "    max_leaf_nodes=None,\n",
    "    min_impurity_decrease=0.0,\n",
    "    bootstrap=True,\n",
    "    oob_score=False,\n",
    "    n_jobs=None,\n",
    "    random_state=None,\n",
    "    verbose=0,\n",
    "    warm_start=False,\n",
    "    class_weight=class_weights,\n",
    "    ccp_alpha=0.0,\n",
    "    max_samples=None\n",
    ")\n",
    "\n",
    "hyperparameters = {\n",
    "    'n_estimators': [50, 75, 100, 125, 150, 175, 200]\n",
    "}"
   ]
  },
  {
   "cell_type": "code",
   "execution_count": 489,
   "metadata": {},
   "outputs": [],
   "source": [
    "rf = GridSearchCV(\n",
    "    estimator=model,\n",
    "    param_grid=hyperparameters,\n",
    "    cv=2,\n",
    "    verbose=1,\n",
    "    n_jobs=-1  \n",
    ")"
   ]
  },
  {
   "cell_type": "code",
   "execution_count": 490,
   "metadata": {},
   "outputs": [
    {
     "name": "stdout",
     "output_type": "stream",
     "text": [
      "Fitting 2 folds for each of 7 candidates, totalling 14 fits\n"
     ]
    },
    {
     "data": {
      "text/plain": [
       "GridSearchCV(cv=2,\n",
       "             estimator=RandomForestClassifier(class_weight={0: 0.9860847211355762,\n",
       "                                                            1: 1.014313635318464}),\n",
       "             n_jobs=-1,\n",
       "             param_grid={'n_estimators': [50, 75, 100, 125, 150, 175, 200]},\n",
       "             verbose=1)"
      ]
     },
     "execution_count": 490,
     "metadata": {},
     "output_type": "execute_result"
    }
   ],
   "source": [
    "rf.fit(X=X_train, y=y_train)"
   ]
  },
  {
   "cell_type": "code",
   "execution_count": 491,
   "metadata": {},
   "outputs": [],
   "source": [
    "models = {}\n",
    "models['random_forest'] = rf.best_estimator_"
   ]
  },
  {
   "cell_type": "code",
   "execution_count": 492,
   "metadata": {},
   "outputs": [
    {
     "name": "stdout",
     "output_type": "stream",
     "text": [
      "Accuracy: 0.9600272026598157\n",
      "Precision: 0.9594224924012158\n",
      "Recall: 0.9601520912547529\n",
      "F1 score: 0.9597871531736982\n"
     ]
    }
   ],
   "source": [
    "y_predd=models['random_forest'].predict(X_test)\n",
    "# Вычисление метрик качества\n",
    "accuracy = accuracy_score(y_test, y_pred)\n",
    "precision = precision_score(y_test, y_pred)\n",
    "recall = recall_score(y_test, y_pred)\n",
    "f1 = f1_score(y_test, y_pred)\n",
    "\n",
    "# Вывод метрик качества\n",
    "print(\"Accuracy:\", accuracy)\n",
    "print(\"Precision:\", precision)\n",
    "print(\"Recall:\", recall)\n",
    "print(\"F1 score:\", f1)"
   ]
  },
  {
   "cell_type": "code",
   "execution_count": 493,
   "metadata": {},
   "outputs": [],
   "source": [
    "from keras.models import Sequential\n",
    "from keras.layers import Dense, LSTM, Dropout, Embedding\n",
    "from keras.preprocessing.text import Tokenizer\n",
    "from keras import layers\n",
    "from sklearn.model_selection import train_test_split\n",
    "from keras.models import Sequential\n",
    "from keras.layers import Dense,GRU,Embedding,Dropout,Flatten,Conv1D,MaxPooling1D,add,GlobalAveragePooling1D,LSTM\n",
    "from keras.layers import Conv1D, GlobalMaxPooling1D\n",
    "\n",
    "model = Sequential([\n",
    "    Conv1D(128, 16, padding='same', activation='relu', input_shape=(1000,1)),\n",
    "    MaxPooling1D(2),\n",
    "    Conv1D(64, 16, padding='same', activation='relu'),\n",
    "    MaxPooling1D(2),\n",
    "    Conv1D(32, 8, padding='same', activation='relu'),\n",
    "    MaxPooling1D(2),\n",
    "    Flatten(),\n",
    "    Dense(64, activation='relu'),\n",
    "    Dense(1, activation='sigmoid')\n",
    "])\n",
    "\n",
    "\n",
    "model.compile(loss='binary_crossentropy', optimizer='adam', metrics=['accuracy'])"
   ]
  },
  {
   "cell_type": "code",
   "execution_count": 494,
   "metadata": {},
   "outputs": [
    {
     "name": "stdout",
     "output_type": "stream",
     "text": [
      "Epoch 1/3\n",
      "1655/1655 [==============================] - 131s 79ms/step - loss: 0.1482 - accuracy: 0.9421\n",
      "Epoch 2/3\n",
      "1655/1655 [==============================] - 130s 79ms/step - loss: 0.0880 - accuracy: 0.9665\n",
      "Epoch 3/3\n",
      "1655/1655 [==============================] - 130s 78ms/step - loss: 0.0738 - accuracy: 0.9718\n"
     ]
    },
    {
     "data": {
      "text/plain": [
       "<keras.callbacks.History at 0x7f6efbd888e0>"
      ]
     },
     "execution_count": 494,
     "metadata": {},
     "output_type": "execute_result"
    }
   ],
   "source": [
    "# Обучаем модель\n",
    "model.fit(X_train, y_train, epochs=3, batch_size=32)\n"
   ]
  },
  {
   "cell_type": "code",
   "execution_count": 495,
   "metadata": {},
   "outputs": [
    {
     "name": "stdout",
     "output_type": "stream",
     "text": [
      "Accuracy: 0.9600272026598157\n",
      "Precision: 0.9594224924012158\n",
      "Recall: 0.9601520912547529\n",
      "F1 score: 0.9597871531736982\n"
     ]
    }
   ],
   "source": [
    "# Оцениваем точность модели на тестовых данных\n",
    "\n",
    "X_test = np.array(X_test)\n",
    "y_test = np.array(y_test)\n",
    "\n",
    "score = model.evaluate(X_test, y_test, verbose=0)\n",
    "# Вычисление метрик качества\n",
    "accuracy = accuracy_score(y_test, y_pred)\n",
    "precision = precision_score(y_test, y_pred)\n",
    "recall = recall_score(y_test, y_pred)\n",
    "f1 = f1_score(y_test, y_pred)\n",
    "\n",
    "# Вывод метрик качества\n",
    "print(\"Accuracy:\", accuracy)\n",
    "print(\"Precision:\", precision)\n",
    "print(\"Recall:\", recall)\n",
    "print(\"F1 score:\", f1)"
   ]
  },
  {
   "cell_type": "code",
   "execution_count": 496,
   "metadata": {},
   "outputs": [
    {
     "name": "stderr",
     "output_type": "stream",
     "text": [
      "/home/dmitrii/.local/lib/python3.10/site-packages/sklearn/svm/_base.py:1206: ConvergenceWarning: Liblinear failed to converge, increase the number of iterations.\n",
      "  warnings.warn(\n"
     ]
    }
   ],
   "source": [
    "from sklearn.svm import LinearSVC\n",
    "from sklearn.metrics import accuracy_score, precision_score, recall_score, f1_score\n",
    "\n",
    "# Обучение модели на обучающих данных\n",
    "clf = LinearSVC(random_state=42)\n",
    "clf.fit(X_train, y_train)\n",
    "\n",
    "# Получение предсказаний на тестовых данных\n",
    "y_pred = clf.predict(X_test)"
   ]
  },
  {
   "cell_type": "code",
   "execution_count": 497,
   "metadata": {},
   "outputs": [
    {
     "name": "stdout",
     "output_type": "stream",
     "text": [
      "Accuracy: 0.9594982620522896\n",
      "Precision: 0.9585421412300683\n",
      "Recall: 0.96\n",
      "F1 score: 0.9592705167173251\n"
     ]
    }
   ],
   "source": [
    "# Вычисление метрик качества\n",
    "accuracy = accuracy_score(y_test, y_pred)\n",
    "precision = precision_score(y_test, y_pred)\n",
    "recall = recall_score(y_test, y_pred)\n",
    "f1 = f1_score(y_test, y_pred)\n",
    "\n",
    "# Вывод метрик качества\n",
    "print(\"Accuracy:\", accuracy)\n",
    "print(\"Precision:\", precision)\n",
    "print(\"Recall:\", recall)\n",
    "print(\"F1 score:\", f1)"
   ]
  },
  {
   "cell_type": "code",
   "execution_count": 500,
   "metadata": {},
   "outputs": [],
   "source": [
    "model = Sequential([\n",
    "    Conv1D(128, 16, padding='same', activation='relu', input_shape=(1000, 1)),\n",
    "    MaxPooling1D(2),\n",
    "    Conv1D(64, 16, padding='same', activation='relu'),\n",
    "    MaxPooling1D(2),\n",
    "    Conv1D(32, 8, padding='same', activation='relu'),\n",
    "    MaxPooling1D(2),\n",
    "    GRU(32),\n",
    "    Dense(64, activation='relu'),\n",
    "    Dense(1, activation='sigmoid')\n",
    "])\n",
    "\n",
    "model.compile(loss='binary_crossentropy', optimizer='adam', metrics=['accuracy'])\n"
   ]
  },
  {
   "cell_type": "code",
   "execution_count": 501,
   "metadata": {},
   "outputs": [
    {
     "name": "stdout",
     "output_type": "stream",
     "text": [
      "Epoch 1/3\n",
      "1655/1655 [==============================] - 165s 99ms/step - loss: 0.6642 - accuracy: 0.5402\n",
      "Epoch 2/3\n",
      "1655/1655 [==============================] - 164s 99ms/step - loss: 0.4743 - accuracy: 0.7392\n",
      "Epoch 3/3\n",
      "1655/1655 [==============================] - 164s 99ms/step - loss: 0.2493 - accuracy: 0.9005\n"
     ]
    },
    {
     "data": {
      "text/plain": [
       "<keras.callbacks.History at 0x7f6f017f0550>"
      ]
     },
     "execution_count": 501,
     "metadata": {},
     "output_type": "execute_result"
    }
   ],
   "source": [
    "model.fit(X_train, y_train, epochs=3, batch_size=32)\n"
   ]
  },
  {
   "cell_type": "code",
   "execution_count": 502,
   "metadata": {},
   "outputs": [
    {
     "name": "stdout",
     "output_type": "stream",
     "text": [
      "Test accuracy: 0.9185431599617004\n"
     ]
    }
   ],
   "source": [
    "# Оцениваем точность модели на тестовых данных\n",
    "\n",
    "X_test = np.array(X_test)\n",
    "y_test = np.array(y_test)\n",
    "\n",
    "score = model.evaluate(X_test, y_test, verbose=0)\n",
    "print('Test accuracy:', score[1])"
   ]
  }
 ],
 "metadata": {
  "kernelspec": {
   "display_name": "Python 3",
   "language": "python",
   "name": "python3"
  },
  "language_info": {
   "codemirror_mode": {
    "name": "ipython",
    "version": 3
   },
   "file_extension": ".py",
   "mimetype": "text/x-python",
   "name": "python",
   "nbconvert_exporter": "python",
   "pygments_lexer": "ipython3",
   "version": "3.10.6"
  },
  "orig_nbformat": 4
 },
 "nbformat": 4,
 "nbformat_minor": 2
}
